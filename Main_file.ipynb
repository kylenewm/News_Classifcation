{
  "nbformat": 4,
  "nbformat_minor": 0,
  "metadata": {
    "colab": {
      "provenance": [],
      "collapsed_sections": [],
      "machine_shape": "hm"
    },
    "kernelspec": {
      "name": "python3",
      "display_name": "Python 3"
    },
    "language_info": {
      "name": "python"
    }
  },
  "cells": [
    {
      "cell_type": "markdown",
      "source": [
        "# BBC News Classification\n",
        "### By: Kyle Newman "
      ],
      "metadata": {
        "id": "0NINaAAezq8a"
      }
    },
    {
      "cell_type": "markdown",
      "source": [
        "## Introduction"
      ],
      "metadata": {
        "id": "u_O3ZVr6SL0p"
      }
    },
    {
      "cell_type": "markdown",
      "source": [
        "**Objective**\n"
      ],
      "metadata": {
        "id": "zZswJeciz-Qw"
      }
    },
    {
      "cell_type": "markdown",
      "source": [
        "The goal of this project is to classify news articles that have not been seen before. The competition is scored based off of accuracy. There are 2225 articles with 5 different article classification categories. The training data conists of 1490 articles and the test (submission) data consists of 735 articles. "
      ],
      "metadata": {
        "id": "pvkg-8Rk0Exb"
      }
    },
    {
      "cell_type": "markdown",
      "source": [
        "### Important Information"
      ],
      "metadata": {
        "id": "zpMugiUS8Pls"
      }
    },
    {
      "cell_type": "markdown",
      "source": [
        "An important distinction to make is the differnce between topic modeling and topic classification. Topic modeling groups unlabeld text by the topics the model thinks it contains and groups them by those topics. Topic classification  contains labeled training data. Hence with topic modeling we generally deal with unsupervised techniques such as Latent Dirichlet Allocation and Latent Semantic Analysis. While with topic classiifcatoin we generally deal with supervised learning algorithms such as support vectormachines and naive bayes analysis. There are also deep learning architectures used for text classification auch as Convolutional Neural Networks and Recurrent Neural Networks. I will provide resources at the end of the tutorial/project if you want to delve deeper into these topics. "
      ],
      "metadata": {
        "id": "mr1Xi4hATfOE"
      }
    },
    {
      "cell_type": "markdown",
      "source": [
        "It also important to note that because of the sheer size of this notebook, I will be creating a **reproducible workflow** using python modules within a virtual environment that will be available on github. I have also added detailed **explanations** of some of the basic concepts needed in a separate ipynb file. If you are unfamiliar with Natural Language Processing, vectorization, hyperparameter optimization, cross validation, or common machine learning algorithms, I'd highly recommend reading through the other notebook first. "
      ],
      "metadata": {
        "id": "pDB2eao4P9Y4"
      }
    },
    {
      "cell_type": "markdown",
      "source": [
        "Also, there were limitations experienced due to a lack of resources. I could not create highly complex pipelines because hyperparameter tuning on these pipelines were taking more than 24 hours so I had to simplify them. In future projects I will be utilizing more current techniques such as Glove for vectorization instead of TFIDF. I will also hope to have access to stronger computing resources than just a laptop. "
      ],
      "metadata": {
        "id": "jOelxUHo8VM7"
      }
    },
    {
      "cell_type": "markdown",
      "source": [
        "### Installation of Dependenices"
      ],
      "metadata": {
        "id": "Ne5ncywZzWgl"
      }
    },
    {
      "cell_type": "code",
      "source": [
        "!pip install contractions"
      ],
      "metadata": {
        "id": "Y4kiYauaQPye",
        "colab": {
          "base_uri": "https://localhost:8080/"
        },
        "outputId": "4b83eebc-cd81-4747-e8d9-b9faabff489f"
      },
      "execution_count": 1,
      "outputs": [
        {
          "output_type": "stream",
          "name": "stdout",
          "text": [
            "Looking in indexes: https://pypi.org/simple, https://us-python.pkg.dev/colab-wheels/public/simple/\n",
            "Collecting contractions\n",
            "  Downloading contractions-0.1.72-py2.py3-none-any.whl (8.3 kB)\n",
            "Collecting textsearch>=0.0.21\n",
            "  Downloading textsearch-0.0.24-py2.py3-none-any.whl (7.6 kB)\n",
            "Collecting anyascii\n",
            "  Downloading anyascii-0.3.1-py3-none-any.whl (287 kB)\n",
            "\u001b[K     |████████████████████████████████| 287 kB 5.1 MB/s \n",
            "\u001b[?25hCollecting pyahocorasick\n",
            "  Downloading pyahocorasick-1.4.4-cp37-cp37m-manylinux_2_17_x86_64.manylinux2014_x86_64.whl (106 kB)\n",
            "\u001b[K     |████████████████████████████████| 106 kB 65.4 MB/s \n",
            "\u001b[?25hInstalling collected packages: pyahocorasick, anyascii, textsearch, contractions\n",
            "Successfully installed anyascii-0.3.1 contractions-0.1.72 pyahocorasick-1.4.4 textsearch-0.0.24\n"
          ]
        }
      ]
    },
    {
      "cell_type": "code",
      "source": [
        "!pip install opendatasets"
      ],
      "metadata": {
        "id": "vxaQR5GrEBGL",
        "colab": {
          "base_uri": "https://localhost:8080/"
        },
        "outputId": "f7664a2b-4496-4f59-d5fb-7be962bbedac"
      },
      "execution_count": 2,
      "outputs": [
        {
          "output_type": "stream",
          "name": "stdout",
          "text": [
            "Looking in indexes: https://pypi.org/simple, https://us-python.pkg.dev/colab-wheels/public/simple/\n",
            "Collecting opendatasets\n",
            "  Downloading opendatasets-0.1.22-py3-none-any.whl (15 kB)\n",
            "Requirement already satisfied: tqdm in /usr/local/lib/python3.7/dist-packages (from opendatasets) (4.64.1)\n",
            "Requirement already satisfied: click in /usr/local/lib/python3.7/dist-packages (from opendatasets) (7.1.2)\n",
            "Requirement already satisfied: kaggle in /usr/local/lib/python3.7/dist-packages (from opendatasets) (1.5.12)\n",
            "Requirement already satisfied: certifi in /usr/local/lib/python3.7/dist-packages (from kaggle->opendatasets) (2022.6.15)\n",
            "Requirement already satisfied: six>=1.10 in /usr/local/lib/python3.7/dist-packages (from kaggle->opendatasets) (1.15.0)\n",
            "Requirement already satisfied: urllib3 in /usr/local/lib/python3.7/dist-packages (from kaggle->opendatasets) (1.24.3)\n",
            "Requirement already satisfied: python-dateutil in /usr/local/lib/python3.7/dist-packages (from kaggle->opendatasets) (2.8.2)\n",
            "Requirement already satisfied: python-slugify in /usr/local/lib/python3.7/dist-packages (from kaggle->opendatasets) (6.1.2)\n",
            "Requirement already satisfied: requests in /usr/local/lib/python3.7/dist-packages (from kaggle->opendatasets) (2.23.0)\n",
            "Requirement already satisfied: text-unidecode>=1.3 in /usr/local/lib/python3.7/dist-packages (from python-slugify->kaggle->opendatasets) (1.3)\n",
            "Requirement already satisfied: chardet<4,>=3.0.2 in /usr/local/lib/python3.7/dist-packages (from requests->kaggle->opendatasets) (3.0.4)\n",
            "Requirement already satisfied: idna<3,>=2.5 in /usr/local/lib/python3.7/dist-packages (from requests->kaggle->opendatasets) (2.10)\n",
            "Installing collected packages: opendatasets\n",
            "Successfully installed opendatasets-0.1.22\n"
          ]
        }
      ]
    },
    {
      "cell_type": "code",
      "source": [
        "import opendatasets as od\n",
        "import pandas as pd\n",
        "import nltk\n",
        "from nltk.tokenize import sent_tokenize, word_tokenize #Importing neccessary modules for word embedding\n",
        "import matplotlib.pyplot as plt \n",
        "import seaborn as sns\n",
        "from nltk.corpus import stopwords\n",
        "from nltk.stem import PorterStemmer\n",
        "from nltk import FreqDist\n",
        "from nltk.stem import WordNetLemmatizer\n",
        "from nltk.corpus import wordnet as wn\n",
        "import re\n",
        "import string\n",
        "import math\n",
        "from matplotlib import gridspec\n",
        "from sklearn.feature_extraction.text import TfidfVectorizer, CountVectorizer\n",
        "from sklearn.decomposition import NMF\n",
        "import sklearn.metrics as metrics\n",
        "import numpy as np\n",
        "import itertools\n",
        "from sklearn.metrics import accuracy_score\n",
        "import random"
      ],
      "metadata": {
        "id": "qjYUAVp8T_bU"
      },
      "execution_count": 3,
      "outputs": []
    },
    {
      "cell_type": "code",
      "source": [
        "!pip install NLTK\n",
        "nltk.download('punkt')\n",
        "nltk.download('stopwords')"
      ],
      "metadata": {
        "colab": {
          "base_uri": "https://localhost:8080/"
        },
        "id": "rOxDSJjTKpqo",
        "outputId": "cc89c875-4db7-4d84-cb20-615fbbfd095c"
      },
      "execution_count": 4,
      "outputs": [
        {
          "output_type": "stream",
          "name": "stdout",
          "text": [
            "Looking in indexes: https://pypi.org/simple, https://us-python.pkg.dev/colab-wheels/public/simple/\n",
            "Requirement already satisfied: NLTK in /usr/local/lib/python3.7/dist-packages (3.7)\n",
            "Requirement already satisfied: regex>=2021.8.3 in /usr/local/lib/python3.7/dist-packages (from NLTK) (2022.6.2)\n",
            "Requirement already satisfied: joblib in /usr/local/lib/python3.7/dist-packages (from NLTK) (1.1.0)\n",
            "Requirement already satisfied: tqdm in /usr/local/lib/python3.7/dist-packages (from NLTK) (4.64.1)\n",
            "Requirement already satisfied: click in /usr/local/lib/python3.7/dist-packages (from NLTK) (7.1.2)\n"
          ]
        },
        {
          "output_type": "stream",
          "name": "stderr",
          "text": [
            "[nltk_data] Downloading package punkt to /root/nltk_data...\n",
            "[nltk_data]   Unzipping tokenizers/punkt.zip.\n",
            "[nltk_data] Downloading package stopwords to /root/nltk_data...\n",
            "[nltk_data]   Unzipping corpora/stopwords.zip.\n"
          ]
        },
        {
          "output_type": "execute_result",
          "data": {
            "text/plain": [
              "True"
            ]
          },
          "metadata": {},
          "execution_count": 4
        }
      ]
    },
    {
      "cell_type": "markdown",
      "source": [
        "## Loading/Splitting Data"
      ],
      "metadata": {
        "id": "8gVXqy2Nzex-"
      }
    },
    {
      "cell_type": "markdown",
      "source": [
        "I am using the opendatasets library to load the dataset. Storing an API key and loading directly into the notebook is much more memory and time efficient than downloading directly to the disk."
      ],
      "metadata": {
        "id": "OMfg_KPdy9ds"
      }
    },
    {
      "cell_type": "code",
      "execution_count": 5,
      "metadata": {
        "colab": {
          "base_uri": "https://localhost:8080/"
        },
        "id": "8ZWtF8HZqWPN",
        "outputId": "e6c46064-2dc6-47ab-d4da-9a17d1647484"
      },
      "outputs": [
        {
          "output_type": "stream",
          "name": "stdout",
          "text": [
            "Please provide your Kaggle credentials to download this dataset. Learn more: http://bit.ly/kaggle-creds\n",
            "Your Kaggle username: kylenewman\n",
            "Your Kaggle Key: ··········\n",
            "Downloading learn-ai-bbc.zip to ./learn-ai-bbc\n"
          ]
        },
        {
          "output_type": "stream",
          "name": "stderr",
          "text": [
            "100%|██████████| 1.85M/1.85M [00:00<00:00, 102MB/s]"
          ]
        },
        {
          "output_type": "stream",
          "name": "stdout",
          "text": [
            "\n",
            "Extracting archive ./learn-ai-bbc/learn-ai-bbc.zip to ./learn-ai-bbc\n"
          ]
        },
        {
          "output_type": "stream",
          "name": "stderr",
          "text": [
            "\n"
          ]
        }
      ],
      "source": [
        "od.download(\"https://www.kaggle.com/competitions/learn-ai-bbc/data\")"
      ]
    },
    {
      "cell_type": "code",
      "source": [
        "test = pd.read_csv('/content/learn-ai-bbc/BBC News Test.csv', low_memory = False) \n",
        "train =  pd.read_csv('/content/learn-ai-bbc/BBC News Train.csv', low_memory = False) #set to train and test model (will be split 80/20)\n",
        "sample = pd.read_csv(\"/content/learn-ai-bbc/BBC News Sample Solution.csv\", low_memory = False) "
      ],
      "metadata": {
        "id": "lvpk5h0uxwzH"
      },
      "execution_count": 6,
      "outputs": []
    },
    {
      "cell_type": "markdown",
      "source": [
        "We can see from above that our goal is to classify the article to the correct catgeory. "
      ],
      "metadata": {
        "id": "jZrWKn__1mPt"
      }
    },
    {
      "cell_type": "code",
      "source": [
        "df = train.sample(frac=1, random_state = 342).reset_index(drop=True)\n",
        "train_set = df[0:int(.8*len(df)+1)].reset_index(drop=True)\n",
        "test_set = df[int(.8*len(df)+1):-1].reset_index(drop=True) #used in place of train_test split "
      ],
      "metadata": {
        "id": "nTsitRyLnha9"
      },
      "execution_count": 7,
      "outputs": []
    },
    {
      "cell_type": "code",
      "source": [
        "train1 = train_set.copy() #copy for EDA\n",
        "train_f = train_set.copy() #copy for modeling"
      ],
      "metadata": {
        "id": "yhSkeGWwYpB9"
      },
      "execution_count": 8,
      "outputs": []
    },
    {
      "cell_type": "code",
      "source": [
        "sample.head() #sample solution "
      ],
      "metadata": {
        "colab": {
          "base_uri": "https://localhost:8080/",
          "height": 206
        },
        "id": "IBI01ryvycSN",
        "outputId": "04ffa243-64ee-4ced-f502-1fc6392e194c"
      },
      "execution_count": 9,
      "outputs": [
        {
          "output_type": "execute_result",
          "data": {
            "text/plain": [
              "   ArticleId       Category\n",
              "0       1018          sport\n",
              "1       1319           tech\n",
              "2       1138       business\n",
              "3        459  entertainment\n",
              "4       1020       politics"
            ],
            "text/html": [
              "\n",
              "  <div id=\"df-d1f0fdec-7d01-4cbf-a314-362837808a11\">\n",
              "    <div class=\"colab-df-container\">\n",
              "      <div>\n",
              "<style scoped>\n",
              "    .dataframe tbody tr th:only-of-type {\n",
              "        vertical-align: middle;\n",
              "    }\n",
              "\n",
              "    .dataframe tbody tr th {\n",
              "        vertical-align: top;\n",
              "    }\n",
              "\n",
              "    .dataframe thead th {\n",
              "        text-align: right;\n",
              "    }\n",
              "</style>\n",
              "<table border=\"1\" class=\"dataframe\">\n",
              "  <thead>\n",
              "    <tr style=\"text-align: right;\">\n",
              "      <th></th>\n",
              "      <th>ArticleId</th>\n",
              "      <th>Category</th>\n",
              "    </tr>\n",
              "  </thead>\n",
              "  <tbody>\n",
              "    <tr>\n",
              "      <th>0</th>\n",
              "      <td>1018</td>\n",
              "      <td>sport</td>\n",
              "    </tr>\n",
              "    <tr>\n",
              "      <th>1</th>\n",
              "      <td>1319</td>\n",
              "      <td>tech</td>\n",
              "    </tr>\n",
              "    <tr>\n",
              "      <th>2</th>\n",
              "      <td>1138</td>\n",
              "      <td>business</td>\n",
              "    </tr>\n",
              "    <tr>\n",
              "      <th>3</th>\n",
              "      <td>459</td>\n",
              "      <td>entertainment</td>\n",
              "    </tr>\n",
              "    <tr>\n",
              "      <th>4</th>\n",
              "      <td>1020</td>\n",
              "      <td>politics</td>\n",
              "    </tr>\n",
              "  </tbody>\n",
              "</table>\n",
              "</div>\n",
              "      <button class=\"colab-df-convert\" onclick=\"convertToInteractive('df-d1f0fdec-7d01-4cbf-a314-362837808a11')\"\n",
              "              title=\"Convert this dataframe to an interactive table.\"\n",
              "              style=\"display:none;\">\n",
              "        \n",
              "  <svg xmlns=\"http://www.w3.org/2000/svg\" height=\"24px\"viewBox=\"0 0 24 24\"\n",
              "       width=\"24px\">\n",
              "    <path d=\"M0 0h24v24H0V0z\" fill=\"none\"/>\n",
              "    <path d=\"M18.56 5.44l.94 2.06.94-2.06 2.06-.94-2.06-.94-.94-2.06-.94 2.06-2.06.94zm-11 1L8.5 8.5l.94-2.06 2.06-.94-2.06-.94L8.5 2.5l-.94 2.06-2.06.94zm10 10l.94 2.06.94-2.06 2.06-.94-2.06-.94-.94-2.06-.94 2.06-2.06.94z\"/><path d=\"M17.41 7.96l-1.37-1.37c-.4-.4-.92-.59-1.43-.59-.52 0-1.04.2-1.43.59L10.3 9.45l-7.72 7.72c-.78.78-.78 2.05 0 2.83L4 21.41c.39.39.9.59 1.41.59.51 0 1.02-.2 1.41-.59l7.78-7.78 2.81-2.81c.8-.78.8-2.07 0-2.86zM5.41 20L4 18.59l7.72-7.72 1.47 1.35L5.41 20z\"/>\n",
              "  </svg>\n",
              "      </button>\n",
              "      \n",
              "  <style>\n",
              "    .colab-df-container {\n",
              "      display:flex;\n",
              "      flex-wrap:wrap;\n",
              "      gap: 12px;\n",
              "    }\n",
              "\n",
              "    .colab-df-convert {\n",
              "      background-color: #E8F0FE;\n",
              "      border: none;\n",
              "      border-radius: 50%;\n",
              "      cursor: pointer;\n",
              "      display: none;\n",
              "      fill: #1967D2;\n",
              "      height: 32px;\n",
              "      padding: 0 0 0 0;\n",
              "      width: 32px;\n",
              "    }\n",
              "\n",
              "    .colab-df-convert:hover {\n",
              "      background-color: #E2EBFA;\n",
              "      box-shadow: 0px 1px 2px rgba(60, 64, 67, 0.3), 0px 1px 3px 1px rgba(60, 64, 67, 0.15);\n",
              "      fill: #174EA6;\n",
              "    }\n",
              "\n",
              "    [theme=dark] .colab-df-convert {\n",
              "      background-color: #3B4455;\n",
              "      fill: #D2E3FC;\n",
              "    }\n",
              "\n",
              "    [theme=dark] .colab-df-convert:hover {\n",
              "      background-color: #434B5C;\n",
              "      box-shadow: 0px 1px 3px 1px rgba(0, 0, 0, 0.15);\n",
              "      filter: drop-shadow(0px 1px 2px rgba(0, 0, 0, 0.3));\n",
              "      fill: #FFFFFF;\n",
              "    }\n",
              "  </style>\n",
              "\n",
              "      <script>\n",
              "        const buttonEl =\n",
              "          document.querySelector('#df-d1f0fdec-7d01-4cbf-a314-362837808a11 button.colab-df-convert');\n",
              "        buttonEl.style.display =\n",
              "          google.colab.kernel.accessAllowed ? 'block' : 'none';\n",
              "\n",
              "        async function convertToInteractive(key) {\n",
              "          const element = document.querySelector('#df-d1f0fdec-7d01-4cbf-a314-362837808a11');\n",
              "          const dataTable =\n",
              "            await google.colab.kernel.invokeFunction('convertToInteractive',\n",
              "                                                     [key], {});\n",
              "          if (!dataTable) return;\n",
              "\n",
              "          const docLinkHtml = 'Like what you see? Visit the ' +\n",
              "            '<a target=\"_blank\" href=https://colab.research.google.com/notebooks/data_table.ipynb>data table notebook</a>'\n",
              "            + ' to learn more about interactive tables.';\n",
              "          element.innerHTML = '';\n",
              "          dataTable['output_type'] = 'display_data';\n",
              "          await google.colab.output.renderOutput(dataTable, element);\n",
              "          const docLink = document.createElement('div');\n",
              "          docLink.innerHTML = docLinkHtml;\n",
              "          element.appendChild(docLink);\n",
              "        }\n",
              "      </script>\n",
              "    </div>\n",
              "  </div>\n",
              "  "
            ]
          },
          "metadata": {},
          "execution_count": 9
        }
      ]
    },
    {
      "cell_type": "markdown",
      "source": [
        "# Exploratory Data Analysis"
      ],
      "metadata": {
        "id": "q4xC6iFE1K8y"
      }
    },
    {
      "cell_type": "code",
      "source": [
        "test.head() #set for submission to be graded on "
      ],
      "metadata": {
        "colab": {
          "base_uri": "https://localhost:8080/",
          "height": 206
        },
        "id": "bU6ruhnuo1wC",
        "outputId": "1bfdc9f7-cb31-42a2-e6ca-4bc4bcbfc401"
      },
      "execution_count": 10,
      "outputs": [
        {
          "output_type": "execute_result",
          "data": {
            "text/plain": [
              "   ArticleId                                               Text\n",
              "0       1018  qpr keeper day heads for preston queens park r...\n",
              "1       1319  software watching while you work software that...\n",
              "2       1138  d arcy injury adds to ireland woe gordon d arc...\n",
              "3        459  india s reliance family feud heats up the ongo...\n",
              "4       1020  boro suffer morrison injury blow middlesbrough..."
            ],
            "text/html": [
              "\n",
              "  <div id=\"df-4363850b-46d9-4200-991e-faf2b44bdf4b\">\n",
              "    <div class=\"colab-df-container\">\n",
              "      <div>\n",
              "<style scoped>\n",
              "    .dataframe tbody tr th:only-of-type {\n",
              "        vertical-align: middle;\n",
              "    }\n",
              "\n",
              "    .dataframe tbody tr th {\n",
              "        vertical-align: top;\n",
              "    }\n",
              "\n",
              "    .dataframe thead th {\n",
              "        text-align: right;\n",
              "    }\n",
              "</style>\n",
              "<table border=\"1\" class=\"dataframe\">\n",
              "  <thead>\n",
              "    <tr style=\"text-align: right;\">\n",
              "      <th></th>\n",
              "      <th>ArticleId</th>\n",
              "      <th>Text</th>\n",
              "    </tr>\n",
              "  </thead>\n",
              "  <tbody>\n",
              "    <tr>\n",
              "      <th>0</th>\n",
              "      <td>1018</td>\n",
              "      <td>qpr keeper day heads for preston queens park r...</td>\n",
              "    </tr>\n",
              "    <tr>\n",
              "      <th>1</th>\n",
              "      <td>1319</td>\n",
              "      <td>software watching while you work software that...</td>\n",
              "    </tr>\n",
              "    <tr>\n",
              "      <th>2</th>\n",
              "      <td>1138</td>\n",
              "      <td>d arcy injury adds to ireland woe gordon d arc...</td>\n",
              "    </tr>\n",
              "    <tr>\n",
              "      <th>3</th>\n",
              "      <td>459</td>\n",
              "      <td>india s reliance family feud heats up the ongo...</td>\n",
              "    </tr>\n",
              "    <tr>\n",
              "      <th>4</th>\n",
              "      <td>1020</td>\n",
              "      <td>boro suffer morrison injury blow middlesbrough...</td>\n",
              "    </tr>\n",
              "  </tbody>\n",
              "</table>\n",
              "</div>\n",
              "      <button class=\"colab-df-convert\" onclick=\"convertToInteractive('df-4363850b-46d9-4200-991e-faf2b44bdf4b')\"\n",
              "              title=\"Convert this dataframe to an interactive table.\"\n",
              "              style=\"display:none;\">\n",
              "        \n",
              "  <svg xmlns=\"http://www.w3.org/2000/svg\" height=\"24px\"viewBox=\"0 0 24 24\"\n",
              "       width=\"24px\">\n",
              "    <path d=\"M0 0h24v24H0V0z\" fill=\"none\"/>\n",
              "    <path d=\"M18.56 5.44l.94 2.06.94-2.06 2.06-.94-2.06-.94-.94-2.06-.94 2.06-2.06.94zm-11 1L8.5 8.5l.94-2.06 2.06-.94-2.06-.94L8.5 2.5l-.94 2.06-2.06.94zm10 10l.94 2.06.94-2.06 2.06-.94-2.06-.94-.94-2.06-.94 2.06-2.06.94z\"/><path d=\"M17.41 7.96l-1.37-1.37c-.4-.4-.92-.59-1.43-.59-.52 0-1.04.2-1.43.59L10.3 9.45l-7.72 7.72c-.78.78-.78 2.05 0 2.83L4 21.41c.39.39.9.59 1.41.59.51 0 1.02-.2 1.41-.59l7.78-7.78 2.81-2.81c.8-.78.8-2.07 0-2.86zM5.41 20L4 18.59l7.72-7.72 1.47 1.35L5.41 20z\"/>\n",
              "  </svg>\n",
              "      </button>\n",
              "      \n",
              "  <style>\n",
              "    .colab-df-container {\n",
              "      display:flex;\n",
              "      flex-wrap:wrap;\n",
              "      gap: 12px;\n",
              "    }\n",
              "\n",
              "    .colab-df-convert {\n",
              "      background-color: #E8F0FE;\n",
              "      border: none;\n",
              "      border-radius: 50%;\n",
              "      cursor: pointer;\n",
              "      display: none;\n",
              "      fill: #1967D2;\n",
              "      height: 32px;\n",
              "      padding: 0 0 0 0;\n",
              "      width: 32px;\n",
              "    }\n",
              "\n",
              "    .colab-df-convert:hover {\n",
              "      background-color: #E2EBFA;\n",
              "      box-shadow: 0px 1px 2px rgba(60, 64, 67, 0.3), 0px 1px 3px 1px rgba(60, 64, 67, 0.15);\n",
              "      fill: #174EA6;\n",
              "    }\n",
              "\n",
              "    [theme=dark] .colab-df-convert {\n",
              "      background-color: #3B4455;\n",
              "      fill: #D2E3FC;\n",
              "    }\n",
              "\n",
              "    [theme=dark] .colab-df-convert:hover {\n",
              "      background-color: #434B5C;\n",
              "      box-shadow: 0px 1px 3px 1px rgba(0, 0, 0, 0.15);\n",
              "      filter: drop-shadow(0px 1px 2px rgba(0, 0, 0, 0.3));\n",
              "      fill: #FFFFFF;\n",
              "    }\n",
              "  </style>\n",
              "\n",
              "      <script>\n",
              "        const buttonEl =\n",
              "          document.querySelector('#df-4363850b-46d9-4200-991e-faf2b44bdf4b button.colab-df-convert');\n",
              "        buttonEl.style.display =\n",
              "          google.colab.kernel.accessAllowed ? 'block' : 'none';\n",
              "\n",
              "        async function convertToInteractive(key) {\n",
              "          const element = document.querySelector('#df-4363850b-46d9-4200-991e-faf2b44bdf4b');\n",
              "          const dataTable =\n",
              "            await google.colab.kernel.invokeFunction('convertToInteractive',\n",
              "                                                     [key], {});\n",
              "          if (!dataTable) return;\n",
              "\n",
              "          const docLinkHtml = 'Like what you see? Visit the ' +\n",
              "            '<a target=\"_blank\" href=https://colab.research.google.com/notebooks/data_table.ipynb>data table notebook</a>'\n",
              "            + ' to learn more about interactive tables.';\n",
              "          element.innerHTML = '';\n",
              "          dataTable['output_type'] = 'display_data';\n",
              "          await google.colab.output.renderOutput(dataTable, element);\n",
              "          const docLink = document.createElement('div');\n",
              "          docLink.innerHTML = docLinkHtml;\n",
              "          element.appendChild(docLink);\n",
              "        }\n",
              "      </script>\n",
              "    </div>\n",
              "  </div>\n",
              "  "
            ]
          },
          "metadata": {},
          "execution_count": 10
        }
      ]
    },
    {
      "cell_type": "code",
      "source": [
        "train_set.head() #training set"
      ],
      "metadata": {
        "colab": {
          "base_uri": "https://localhost:8080/",
          "height": 206
        },
        "id": "8N-mqeQy2BQL",
        "outputId": "4f48f837-97cd-4805-9f5e-13125e6a1795"
      },
      "execution_count": 11,
      "outputs": [
        {
          "output_type": "execute_result",
          "data": {
            "text/plain": [
              "   ArticleId                                               Text       Category\n",
              "0        290  sydney to host north v south game sydney will ...          sport\n",
              "1       1037  vera drake leads uk oscar hopes mike leigh s f...  entertainment\n",
              "2        500  argentina closes $102.6bn debt swap argentina ...       business\n",
              "3        458  podcasts mark rise of diy radio an apple ipod ...           tech\n",
              "4        175  mps to debate  euthanasia laws  mps are prepar...       politics"
            ],
            "text/html": [
              "\n",
              "  <div id=\"df-1416060e-93f7-4248-8db2-c56de2127fb3\">\n",
              "    <div class=\"colab-df-container\">\n",
              "      <div>\n",
              "<style scoped>\n",
              "    .dataframe tbody tr th:only-of-type {\n",
              "        vertical-align: middle;\n",
              "    }\n",
              "\n",
              "    .dataframe tbody tr th {\n",
              "        vertical-align: top;\n",
              "    }\n",
              "\n",
              "    .dataframe thead th {\n",
              "        text-align: right;\n",
              "    }\n",
              "</style>\n",
              "<table border=\"1\" class=\"dataframe\">\n",
              "  <thead>\n",
              "    <tr style=\"text-align: right;\">\n",
              "      <th></th>\n",
              "      <th>ArticleId</th>\n",
              "      <th>Text</th>\n",
              "      <th>Category</th>\n",
              "    </tr>\n",
              "  </thead>\n",
              "  <tbody>\n",
              "    <tr>\n",
              "      <th>0</th>\n",
              "      <td>290</td>\n",
              "      <td>sydney to host north v south game sydney will ...</td>\n",
              "      <td>sport</td>\n",
              "    </tr>\n",
              "    <tr>\n",
              "      <th>1</th>\n",
              "      <td>1037</td>\n",
              "      <td>vera drake leads uk oscar hopes mike leigh s f...</td>\n",
              "      <td>entertainment</td>\n",
              "    </tr>\n",
              "    <tr>\n",
              "      <th>2</th>\n",
              "      <td>500</td>\n",
              "      <td>argentina closes $102.6bn debt swap argentina ...</td>\n",
              "      <td>business</td>\n",
              "    </tr>\n",
              "    <tr>\n",
              "      <th>3</th>\n",
              "      <td>458</td>\n",
              "      <td>podcasts mark rise of diy radio an apple ipod ...</td>\n",
              "      <td>tech</td>\n",
              "    </tr>\n",
              "    <tr>\n",
              "      <th>4</th>\n",
              "      <td>175</td>\n",
              "      <td>mps to debate  euthanasia laws  mps are prepar...</td>\n",
              "      <td>politics</td>\n",
              "    </tr>\n",
              "  </tbody>\n",
              "</table>\n",
              "</div>\n",
              "      <button class=\"colab-df-convert\" onclick=\"convertToInteractive('df-1416060e-93f7-4248-8db2-c56de2127fb3')\"\n",
              "              title=\"Convert this dataframe to an interactive table.\"\n",
              "              style=\"display:none;\">\n",
              "        \n",
              "  <svg xmlns=\"http://www.w3.org/2000/svg\" height=\"24px\"viewBox=\"0 0 24 24\"\n",
              "       width=\"24px\">\n",
              "    <path d=\"M0 0h24v24H0V0z\" fill=\"none\"/>\n",
              "    <path d=\"M18.56 5.44l.94 2.06.94-2.06 2.06-.94-2.06-.94-.94-2.06-.94 2.06-2.06.94zm-11 1L8.5 8.5l.94-2.06 2.06-.94-2.06-.94L8.5 2.5l-.94 2.06-2.06.94zm10 10l.94 2.06.94-2.06 2.06-.94-2.06-.94-.94-2.06-.94 2.06-2.06.94z\"/><path d=\"M17.41 7.96l-1.37-1.37c-.4-.4-.92-.59-1.43-.59-.52 0-1.04.2-1.43.59L10.3 9.45l-7.72 7.72c-.78.78-.78 2.05 0 2.83L4 21.41c.39.39.9.59 1.41.59.51 0 1.02-.2 1.41-.59l7.78-7.78 2.81-2.81c.8-.78.8-2.07 0-2.86zM5.41 20L4 18.59l7.72-7.72 1.47 1.35L5.41 20z\"/>\n",
              "  </svg>\n",
              "      </button>\n",
              "      \n",
              "  <style>\n",
              "    .colab-df-container {\n",
              "      display:flex;\n",
              "      flex-wrap:wrap;\n",
              "      gap: 12px;\n",
              "    }\n",
              "\n",
              "    .colab-df-convert {\n",
              "      background-color: #E8F0FE;\n",
              "      border: none;\n",
              "      border-radius: 50%;\n",
              "      cursor: pointer;\n",
              "      display: none;\n",
              "      fill: #1967D2;\n",
              "      height: 32px;\n",
              "      padding: 0 0 0 0;\n",
              "      width: 32px;\n",
              "    }\n",
              "\n",
              "    .colab-df-convert:hover {\n",
              "      background-color: #E2EBFA;\n",
              "      box-shadow: 0px 1px 2px rgba(60, 64, 67, 0.3), 0px 1px 3px 1px rgba(60, 64, 67, 0.15);\n",
              "      fill: #174EA6;\n",
              "    }\n",
              "\n",
              "    [theme=dark] .colab-df-convert {\n",
              "      background-color: #3B4455;\n",
              "      fill: #D2E3FC;\n",
              "    }\n",
              "\n",
              "    [theme=dark] .colab-df-convert:hover {\n",
              "      background-color: #434B5C;\n",
              "      box-shadow: 0px 1px 3px 1px rgba(0, 0, 0, 0.15);\n",
              "      filter: drop-shadow(0px 1px 2px rgba(0, 0, 0, 0.3));\n",
              "      fill: #FFFFFF;\n",
              "    }\n",
              "  </style>\n",
              "\n",
              "      <script>\n",
              "        const buttonEl =\n",
              "          document.querySelector('#df-1416060e-93f7-4248-8db2-c56de2127fb3 button.colab-df-convert');\n",
              "        buttonEl.style.display =\n",
              "          google.colab.kernel.accessAllowed ? 'block' : 'none';\n",
              "\n",
              "        async function convertToInteractive(key) {\n",
              "          const element = document.querySelector('#df-1416060e-93f7-4248-8db2-c56de2127fb3');\n",
              "          const dataTable =\n",
              "            await google.colab.kernel.invokeFunction('convertToInteractive',\n",
              "                                                     [key], {});\n",
              "          if (!dataTable) return;\n",
              "\n",
              "          const docLinkHtml = 'Like what you see? Visit the ' +\n",
              "            '<a target=\"_blank\" href=https://colab.research.google.com/notebooks/data_table.ipynb>data table notebook</a>'\n",
              "            + ' to learn more about interactive tables.';\n",
              "          element.innerHTML = '';\n",
              "          dataTable['output_type'] = 'display_data';\n",
              "          await google.colab.output.renderOutput(dataTable, element);\n",
              "          const docLink = document.createElement('div');\n",
              "          docLink.innerHTML = docLinkHtml;\n",
              "          element.appendChild(docLink);\n",
              "        }\n",
              "      </script>\n",
              "    </div>\n",
              "  </div>\n",
              "  "
            ]
          },
          "metadata": {},
          "execution_count": 11
        }
      ]
    },
    {
      "cell_type": "code",
      "source": [
        "print(train_set['Category'].unique()) # 5 different classes"
      ],
      "metadata": {
        "id": "cFCO6_qh21e4",
        "colab": {
          "base_uri": "https://localhost:8080/"
        },
        "outputId": "143579d9-ebfe-4efc-a19c-a0326bfa6c4a"
      },
      "execution_count": 12,
      "outputs": [
        {
          "output_type": "stream",
          "name": "stdout",
          "text": [
            "['sport' 'entertainment' 'business' 'tech' 'politics']\n"
          ]
        }
      ]
    },
    {
      "cell_type": "code",
      "source": [
        "print(train_set.info()) # no null values"
      ],
      "metadata": {
        "colab": {
          "base_uri": "https://localhost:8080/"
        },
        "id": "sIDBTTk62hBc",
        "outputId": "7f26a3f3-14a0-42f3-97c5-6f077469d072"
      },
      "execution_count": 13,
      "outputs": [
        {
          "output_type": "stream",
          "name": "stdout",
          "text": [
            "<class 'pandas.core.frame.DataFrame'>\n",
            "RangeIndex: 1193 entries, 0 to 1192\n",
            "Data columns (total 3 columns):\n",
            " #   Column     Non-Null Count  Dtype \n",
            "---  ------     --------------  ----- \n",
            " 0   ArticleId  1193 non-null   int64 \n",
            " 1   Text       1193 non-null   object\n",
            " 2   Category   1193 non-null   object\n",
            "dtypes: int64(1), object(2)\n",
            "memory usage: 28.1+ KB\n",
            "None\n"
          ]
        }
      ]
    },
    {
      "cell_type": "markdown",
      "source": [
        "There are three columns within the dataset (ArticleID, Text, and Category) as well as five categories to classify each article (sport, tech, business, entertainment, and politics). We can also check for null-values within the code (which there are none of). This allows us to skip the data imputation step and proceed to cleaning the text data."
      ],
      "metadata": {
        "id": "NioTpH5h231x"
      }
    },
    {
      "cell_type": "code",
      "source": [
        "print(train_set[\"Text\"][100]) #sample output"
      ],
      "metadata": {
        "colab": {
          "base_uri": "https://localhost:8080/"
        },
        "id": "Y04-C8dp2nEo",
        "outputId": "75f68cc6-4684-4e86-a3d7-700cb6778db3"
      },
      "execution_count": 14,
      "outputs": [
        {
          "output_type": "stream",
          "name": "stdout",
          "text": [
            "mallon wades into ne vote battle middlesbrough mayor ray mallon has been drafted in to boost the yes campaign as the north east assembly referendum enters its final week.  the former police chief  dubbed robocop for his zero tolerance style  clashed on thursday with sunderland no campaigner neil herron. mr mallon said an assembly would give local people more of a say over key issues such as transport and crime. but mr herron said north east people did not want or need an assembly.  the pair met on the platform at sunderland station as mr mallon toured the region highlighting claimed improvements to transport if the area gets an assembly. but mr herron - who gained fame as one of sunderland s  metric martyrs  and is running his own no campaign alongside the official north east says no campaign - said he was not convinced by mr mallon s arguments.  the reality is that it is not going to deliver   he said.  labour has had two-and-a-half years to convince people of this. if you can t sell a deal in that time  it is a bad deal.  on wednesday  mr mallon provoked fury by branding the official no campaign  two-bit tories  in a confrontation outside its durham headquarters.  the campaign is being run by two-bit conservatives who are not interested in what happens in the north east; they are interested in hitting the labour party over the head   he said. mr mallon is a late recruit to the yes campaign after rejecting overtures from no campaigners including  he claims  tory leader michael howard.  most local observers believe the contest is too close to call  although little recent polling has been carried out. yes campaign chairman john tomaney said he hoped for a late flurry of votes to boost turnout - something he says will boost their cause. he added:  the government exerts a lot of political power in the north east. the accountability should be in the north east as well.  he also defended the decision to attack the official no campaign s alleged political allegiances.  we felt we had to show what people were behind the no campaign - london tory spin doctors.  graham robb  spokesman for north east says no  said the yes campaign s decision to get personal dragged the campaign  into the gutter  and showed they were  rattled . and he hit back at mr mallon s claim that an assembly would improve transport links in the region.  it can push paper around but it can not get people moving   he said. some 487 939 people had returned their ballot papers by wednesday - a turnout of 25.7%. the deadline for voting is next thursday  4 november.\n"
          ]
        }
      ]
    },
    {
      "cell_type": "markdown",
      "source": [
        "I outputted a sample of the text from a tweet to understand what was going on better. "
      ],
      "metadata": {
        "id": "ZWMy5kqi3_hF"
      }
    },
    {
      "cell_type": "code",
      "source": [
        "print(train_set.describe()) #basic data output"
      ],
      "metadata": {
        "colab": {
          "base_uri": "https://localhost:8080/"
        },
        "id": "frKy9rzo35aO",
        "outputId": "e21a1b38-f4a1-4740-de64-29ad87a95bd7"
      },
      "execution_count": 15,
      "outputs": [
        {
          "output_type": "stream",
          "name": "stdout",
          "text": [
            "         ArticleId\n",
            "count  1193.000000\n",
            "mean   1115.712490\n",
            "std     638.915972\n",
            "min       2.000000\n",
            "25%     559.000000\n",
            "50%    1100.000000\n",
            "75%    1680.000000\n",
            "max    2224.000000\n"
          ]
        }
      ]
    },
    {
      "cell_type": "code",
      "source": [
        "fig, ax = plt.subplots()\n",
        "plt.style.use('default')\n",
        "ax.hist(train_set['Category'], color = \"lightgreen\", ec = 'black',bins =5, lw=2)\n",
        "ax.set_xlabel('Category')\n",
        "ax.set_ylabel('Count')\n",
        "plt.title(\"Tweets by Category\")\n",
        "plt.show()"
      ],
      "metadata": {
        "colab": {
          "base_uri": "https://localhost:8080/",
          "height": 295
        },
        "id": "uYPKtRYnE_hZ",
        "outputId": "76e28bf8-a15f-49f8-cc6a-a0f6ec498b82"
      },
      "execution_count": 16,
      "outputs": [
        {
          "output_type": "display_data",
          "data": {
            "text/plain": [
              "<Figure size 432x288 with 1 Axes>"
            ],
            "image/png": "[encoded data removed]"
          },
          "metadata": {
            "needs_background": "light"
          }
        }
      ]
    },
    {
      "cell_type": "markdown",
      "source": [
        "There appears to be a slight class imbalance. This should not significantly affect our final metrics. "
      ],
      "metadata": {
        "id": "qcoU03UMyzV1"
      }
    },
    {
      "cell_type": "code",
      "source": [
        "train_set['Number_of_Words'] = train_set['Text'].str.split().str.len() #splitting set to get number of words per categeory"
      ],
      "metadata": {
        "id": "fxDxIZBQJFQZ"
      },
      "execution_count": 17,
      "outputs": []
    },
    {
      "cell_type": "code",
      "source": [
        "sns.violinplot(x=\"Category\", y=\"Number_of_Words\", data=train_set).set(title = \"Violin Plot of Word Counts\")"
      ],
      "metadata": {
        "colab": {
          "base_uri": "https://localhost:8080/",
          "height": 489
        },
        "id": "yOvgQYylJ9r0",
        "outputId": "ecf5d020-08e4-478f-e69b-07ec94b09dcb"
      },
      "execution_count": 18,
      "outputs": [
        {
          "output_type": "execute_result",
          "data": {
            "text/plain": [
              "[Text(0.5, 1.0, 'Violin Plot of Word Counts')]"
            ]
          },
          "metadata": {},
          "execution_count": 18
        },
        {
          "output_type": "display_data",
          "data": {
            "text/plain": [
              "<Figure size 640x480 with 1 Axes>"
            ],
            "image/png": "[encoded data removed]"
          },
          "metadata": {}
        }
      ]
    },
    {
      "cell_type": "markdown",
      "source": [
        "It appears that tech and politics have a wider density at higher word counts than the other three categories. We can also see that entertainment and politics have the mot significant outliers. Violin plots are a combination of box plots and kernel density plots, which use kernel density estimation. I won't go into to too much detail about kernal density estimation, but an application of it for marginal densities can be used to improve the accuracy of Naive Bayes Classifiers (which I will be implementing later). "
      ],
      "metadata": {
        "id": "eoCy1fU_d1UB"
      }
    },
    {
      "cell_type": "markdown",
      "source": [
        "### Tokenization"
      ],
      "metadata": {
        "id": "1WSVP5HeTBgy"
      }
    },
    {
      "cell_type": "code",
      "source": [
        "for i in range(len(train1['Text'])):\n",
        "  train1['Text'][i] = word_tokenize(train1['Text'][i])"
      ],
      "metadata": {
        "colab": {
          "base_uri": "https://localhost:8080/"
        },
        "id": "NVWuIq5sJjqu",
        "outputId": "5c94862f-aa28-41c9-9d8c-f52a194bcd4a"
      },
      "execution_count": 19,
      "outputs": [
        {
          "output_type": "stream",
          "name": "stderr",
          "text": [
            "/usr/local/lib/python3.7/dist-packages/ipykernel_launcher.py:2: SettingWithCopyWarning: \n",
            "A value is trying to be set on a copy of a slice from a DataFrame\n",
            "\n",
            "See the caveats in the documentation: https://pandas.pydata.org/pandas-docs/stable/user_guide/indexing.html#returning-a-view-versus-a-copy\n",
            "  \n"
          ]
        }
      ]
    },
    {
      "cell_type": "markdown",
      "source": [
        "I tokenized the tweets above so it can be processed by the model and so more EDA can be performed. "
      ],
      "metadata": {
        "id": "1efcXPtVN-d2"
      }
    },
    {
      "cell_type": "markdown",
      "source": [
        "### Removing Punctuation\n",
        "\n"
      ],
      "metadata": {
        "id": "T_ZPGvT7X94p"
      }
    },
    {
      "cell_type": "code",
      "source": [
        "for i in range(len(train1)):\n",
        "    train1['Text'][i] = [word for word in train1['Text'][i] if word not in string.punctuation]"
      ],
      "metadata": {
        "id": "ImRcZ1fMNzze",
        "colab": {
          "base_uri": "https://localhost:8080/"
        },
        "outputId": "32544384-03ac-4c1a-afad-ab95d706fe1a"
      },
      "execution_count": 20,
      "outputs": [
        {
          "output_type": "stream",
          "name": "stderr",
          "text": [
            "/usr/local/lib/python3.7/dist-packages/ipykernel_launcher.py:2: SettingWithCopyWarning: \n",
            "A value is trying to be set on a copy of a slice from a DataFrame\n",
            "\n",
            "See the caveats in the documentation: https://pandas.pydata.org/pandas-docs/stable/user_guide/indexing.html#returning-a-view-versus-a-copy\n",
            "  \n"
          ]
        }
      ]
    },
    {
      "cell_type": "markdown",
      "source": [
        "### Filtering Stop Words"
      ],
      "metadata": {
        "id": "AuX0aHtxTNzA"
      }
    },
    {
      "cell_type": "code",
      "source": [
        "stop_words = set(stopwords.words(\"english\"))"
      ],
      "metadata": {
        "id": "mvv_wdPQOUxv"
      },
      "execution_count": 21,
      "outputs": []
    },
    {
      "cell_type": "code",
      "source": [
        "for i in range(len(train1)):\n",
        "    train1['Text'][i] = [word for word in train1['Text'][i] if word.casefold() not in stop_words]"
      ],
      "metadata": {
        "colab": {
          "base_uri": "https://localhost:8080/"
        },
        "id": "j1RHzPKiOoKM",
        "outputId": "2951b8cb-f9ab-4aa1-91a4-33a40c3e6606"
      },
      "execution_count": 22,
      "outputs": [
        {
          "output_type": "stream",
          "name": "stderr",
          "text": [
            "/usr/local/lib/python3.7/dist-packages/ipykernel_launcher.py:2: SettingWithCopyWarning: \n",
            "A value is trying to be set on a copy of a slice from a DataFrame\n",
            "\n",
            "See the caveats in the documentation: https://pandas.pydata.org/pandas-docs/stable/user_guide/indexing.html#returning-a-view-versus-a-copy\n",
            "  \n"
          ]
        }
      ]
    },
    {
      "cell_type": "code",
      "source": [
        "print(train1['Text'][100])"
      ],
      "metadata": {
        "colab": {
          "base_uri": "https://localhost:8080/"
        },
        "id": "KKsPd_B1Qszd",
        "outputId": "70d1290f-7c55-4126-f6cf-2089ee0fbbab"
      },
      "execution_count": 23,
      "outputs": [
        {
          "output_type": "stream",
          "name": "stdout",
          "text": [
            "['mallon', 'wades', 'ne', 'vote', 'battle', 'middlesbrough', 'mayor', 'ray', 'mallon', 'drafted', 'boost', 'yes', 'campaign', 'north', 'east', 'assembly', 'referendum', 'enters', 'final', 'week', 'former', 'police', 'chief', 'dubbed', 'robocop', 'zero', 'tolerance', 'style', 'clashed', 'thursday', 'sunderland', 'campaigner', 'neil', 'herron', 'mr', 'mallon', 'said', 'assembly', 'would', 'give', 'local', 'people', 'say', 'key', 'issues', 'transport', 'crime', 'mr', 'herron', 'said', 'north', 'east', 'people', 'want', 'need', 'assembly', 'pair', 'met', 'platform', 'sunderland', 'station', 'mr', 'mallon', 'toured', 'region', 'highlighting', 'claimed', 'improvements', 'transport', 'area', 'gets', 'assembly', 'mr', 'herron', 'gained', 'fame', 'one', 'sunderland', 'metric', 'martyrs', 'running', 'campaign', 'alongside', 'official', 'north', 'east', 'says', 'campaign', 'said', 'convinced', 'mr', 'mallon', 'arguments', 'reality', 'going', 'deliver', 'said', 'labour', 'two-and-a-half', 'years', 'convince', 'people', 'sell', 'deal', 'time', 'bad', 'deal', 'wednesday', 'mr', 'mallon', 'provoked', 'fury', 'branding', 'official', 'campaign', 'two-bit', 'tories', 'confrontation', 'outside', 'durham', 'headquarters', 'campaign', 'run', 'two-bit', 'conservatives', 'interested', 'happens', 'north', 'east', 'interested', 'hitting', 'labour', 'party', 'head', 'said', 'mr', 'mallon', 'late', 'recruit', 'yes', 'campaign', 'rejecting', 'overtures', 'campaigners', 'including', 'claims', 'tory', 'leader', 'michael', 'howard', 'local', 'observers', 'believe', 'contest', 'close', 'call', 'although', 'little', 'recent', 'polling', 'carried', 'yes', 'campaign', 'chairman', 'john', 'tomaney', 'said', 'hoped', 'late', 'flurry', 'votes', 'boost', 'turnout', 'something', 'says', 'boost', 'cause', 'added', 'government', 'exerts', 'lot', 'political', 'power', 'north', 'east', 'accountability', 'north', 'east', 'well', 'also', 'defended', 'decision', 'attack', 'official', 'campaign', 'alleged', 'political', 'allegiances', 'felt', 'show', 'people', 'behind', 'campaign', 'london', 'tory', 'spin', 'doctors', 'graham', 'robb', 'spokesman', 'north', 'east', 'says', 'said', 'yes', 'campaign', 'decision', 'get', 'personal', 'dragged', 'campaign', 'gutter', 'showed', 'rattled', 'hit', 'back', 'mr', 'mallon', 'claim', 'assembly', 'would', 'improve', 'transport', 'links', 'region', 'push', 'paper', 'around', 'get', 'people', 'moving', 'said', '487', '939', 'people', 'returned', 'ballot', 'papers', 'wednesday', 'turnout', '25.7', 'deadline', 'voting', 'next', 'thursday', '4', 'november']\n"
          ]
        }
      ]
    },
    {
      "cell_type": "markdown",
      "source": [
        "I added the casefold argument since stopwords do not account for both upper and lower case letters. As can be seen from the otuputs, words such as 'a' and 'in' were removed.  "
      ],
      "metadata": {
        "id": "tVLAB7twQ0ZF"
      }
    },
    {
      "cell_type": "markdown",
      "source": [
        "### Lemmatization\n",
        "Since the context of words is important for the classification of tweets, we will be lemmatizing instead of stemming. \n",
        "Lemmatizing:\n",
        "Stemming: "
      ],
      "metadata": {
        "id": "jj6AxOhxTTLe"
      }
    },
    {
      "cell_type": "code",
      "source": [
        "lemmatizer = WordNetLemmatizer()"
      ],
      "metadata": {
        "id": "5_DJdqv3QzSW"
      },
      "execution_count": 24,
      "outputs": []
    },
    {
      "cell_type": "code",
      "source": [
        "nltk.download('wordnet')\n",
        "nltk.download('omw-1.4')"
      ],
      "metadata": {
        "colab": {
          "base_uri": "https://localhost:8080/"
        },
        "id": "JPHFK-PmavLs",
        "outputId": "5ae5cfe5-3b65-477f-beee-ef4a4072cdd2"
      },
      "execution_count": 25,
      "outputs": [
        {
          "output_type": "stream",
          "name": "stderr",
          "text": [
            "[nltk_data] Downloading package wordnet to /root/nltk_data...\n",
            "[nltk_data] Downloading package omw-1.4 to /root/nltk_data...\n"
          ]
        },
        {
          "output_type": "execute_result",
          "data": {
            "text/plain": [
              "True"
            ]
          },
          "metadata": {},
          "execution_count": 25
        }
      ]
    },
    {
      "cell_type": "code",
      "source": [
        "print(train1['Text'][100])"
      ],
      "metadata": {
        "colab": {
          "base_uri": "https://localhost:8080/"
        },
        "id": "zFJwLvVdQyXE",
        "outputId": "d7d59176-079f-4de9-cc6f-8142f09f10cd"
      },
      "execution_count": 26,
      "outputs": [
        {
          "output_type": "stream",
          "name": "stdout",
          "text": [
            "['mallon', 'wades', 'ne', 'vote', 'battle', 'middlesbrough', 'mayor', 'ray', 'mallon', 'drafted', 'boost', 'yes', 'campaign', 'north', 'east', 'assembly', 'referendum', 'enters', 'final', 'week', 'former', 'police', 'chief', 'dubbed', 'robocop', 'zero', 'tolerance', 'style', 'clashed', 'thursday', 'sunderland', 'campaigner', 'neil', 'herron', 'mr', 'mallon', 'said', 'assembly', 'would', 'give', 'local', 'people', 'say', 'key', 'issues', 'transport', 'crime', 'mr', 'herron', 'said', 'north', 'east', 'people', 'want', 'need', 'assembly', 'pair', 'met', 'platform', 'sunderland', 'station', 'mr', 'mallon', 'toured', 'region', 'highlighting', 'claimed', 'improvements', 'transport', 'area', 'gets', 'assembly', 'mr', 'herron', 'gained', 'fame', 'one', 'sunderland', 'metric', 'martyrs', 'running', 'campaign', 'alongside', 'official', 'north', 'east', 'says', 'campaign', 'said', 'convinced', 'mr', 'mallon', 'arguments', 'reality', 'going', 'deliver', 'said', 'labour', 'two-and-a-half', 'years', 'convince', 'people', 'sell', 'deal', 'time', 'bad', 'deal', 'wednesday', 'mr', 'mallon', 'provoked', 'fury', 'branding', 'official', 'campaign', 'two-bit', 'tories', 'confrontation', 'outside', 'durham', 'headquarters', 'campaign', 'run', 'two-bit', 'conservatives', 'interested', 'happens', 'north', 'east', 'interested', 'hitting', 'labour', 'party', 'head', 'said', 'mr', 'mallon', 'late', 'recruit', 'yes', 'campaign', 'rejecting', 'overtures', 'campaigners', 'including', 'claims', 'tory', 'leader', 'michael', 'howard', 'local', 'observers', 'believe', 'contest', 'close', 'call', 'although', 'little', 'recent', 'polling', 'carried', 'yes', 'campaign', 'chairman', 'john', 'tomaney', 'said', 'hoped', 'late', 'flurry', 'votes', 'boost', 'turnout', 'something', 'says', 'boost', 'cause', 'added', 'government', 'exerts', 'lot', 'political', 'power', 'north', 'east', 'accountability', 'north', 'east', 'well', 'also', 'defended', 'decision', 'attack', 'official', 'campaign', 'alleged', 'political', 'allegiances', 'felt', 'show', 'people', 'behind', 'campaign', 'london', 'tory', 'spin', 'doctors', 'graham', 'robb', 'spokesman', 'north', 'east', 'says', 'said', 'yes', 'campaign', 'decision', 'get', 'personal', 'dragged', 'campaign', 'gutter', 'showed', 'rattled', 'hit', 'back', 'mr', 'mallon', 'claim', 'assembly', 'would', 'improve', 'transport', 'links', 'region', 'push', 'paper', 'around', 'get', 'people', 'moving', 'said', '487', '939', 'people', 'returned', 'ballot', 'papers', 'wednesday', 'turnout', '25.7', 'deadline', 'voting', 'next', 'thursday', '4', 'november']\n"
          ]
        }
      ]
    },
    {
      "cell_type": "code",
      "source": [
        "for i in range(len(df)):\n",
        "  train['Text'][i] = [lemmatizer.lemmatize(word) for word in train['Text'][i]]"
      ],
      "metadata": {
        "id": "uTdTKtPilFtX",
        "colab": {
          "base_uri": "https://localhost:8080/"
        },
        "outputId": "3024d271-2be3-4e7e-90d3-75855fdd63b0"
      },
      "execution_count": 27,
      "outputs": [
        {
          "output_type": "stream",
          "name": "stderr",
          "text": [
            "/usr/local/lib/python3.7/dist-packages/ipykernel_launcher.py:2: SettingWithCopyWarning: \n",
            "A value is trying to be set on a copy of a slice from a DataFrame\n",
            "\n",
            "See the caveats in the documentation: https://pandas.pydata.org/pandas-docs/stable/user_guide/indexing.html#returning-a-view-versus-a-copy\n",
            "  \n"
          ]
        }
      ]
    },
    {
      "cell_type": "markdown",
      "source": [
        "We checked the ouput to make sure the column was lemmatized. Here we can see that 'wins' was lemmatized to 'win'. "
      ],
      "metadata": {
        "id": "f_GCmpJLbf40"
      }
    },
    {
      "cell_type": "markdown",
      "source": [
        "### Word frequency exploration"
      ],
      "metadata": {
        "id": "LphTPCAMhGT0"
      }
    },
    {
      "cell_type": "code",
      "source": [
        "categories = list(set(train1['Category'].values)) #creating categories to use as dictionary  keys\n",
        "print(categories)"
      ],
      "metadata": {
        "colab": {
          "base_uri": "https://localhost:8080/"
        },
        "id": "O-mLSM-McfW6",
        "outputId": "cecd8f88-7992-4b3a-8115-3539958ed9dc"
      },
      "execution_count": 28,
      "outputs": [
        {
          "output_type": "stream",
          "name": "stdout",
          "text": [
            "['sport', 'politics', 'tech', 'business', 'entertainment']\n"
          ]
        }
      ]
    },
    {
      "cell_type": "code",
      "source": [
        "dict1 = {key: [] for key in categories} #instantiating dictionary"
      ],
      "metadata": {
        "id": "kfB1iVajez1s"
      },
      "execution_count": 29,
      "outputs": []
    },
    {
      "cell_type": "code",
      "source": [
        "for i in range(len(train1)): #combining all words and grouping them by category\n",
        "  if train1['Category'][i] == categories[0]:\n",
        "    dict1[categories[0]] += train1['Text'][i]\n",
        "  elif train1['Category'][i] == categories[1]:\n",
        "    dict1[categories[1]] += train1['Text'][i]\n",
        "  elif train1['Category'][i] == categories[2]:\n",
        "    dict1[categories[2]] += train1['Text'][i]\n",
        "  elif train1['Category'][i] == categories[3]:\n",
        "    dict1[categories[3]] += train1['Text'][i]\n",
        "  else:\n",
        "    dict1[categories[4]] += train1['Text'][i]"
      ],
      "metadata": {
        "id": "iBeYjfLzbfRs"
      },
      "execution_count": 30,
      "outputs": []
    },
    {
      "cell_type": "code",
      "source": [
        "for key in dict1: #converting to series to use value_counts()\n",
        "  dict1[key] = pd.Series(dict1[key])"
      ],
      "metadata": {
        "id": "JIpZOe0VhIUo"
      },
      "execution_count": 31,
      "outputs": []
    },
    {
      "cell_type": "code",
      "source": [
        "len(dict1['politics'])"
      ],
      "metadata": {
        "colab": {
          "base_uri": "https://localhost:8080/"
        },
        "id": "U4jb_Cpdx4bA",
        "outputId": "95b5bc63-23e2-4536-bc1b-17a28d56d236"
      },
      "execution_count": 32,
      "outputs": [
        {
          "output_type": "execute_result",
          "data": {
            "text/plain": [
              "52049"
            ]
          },
          "metadata": {},
          "execution_count": 32
        }
      ]
    },
    {
      "cell_type": "code",
      "source": [
        "def create_graphs(diction,num_words): #class to dynamically plot bar graphs for word frequency by category\n",
        "  diction_length = len(diction)\n",
        "  for key in diction: #converting to series to use value_counts()\n",
        "    diction[key] = pd.Series(diction[key])\n",
        "  n_cols = int(math.sqrt(diction_length))\n",
        "  n_rows = int(math.ceil(diction_length / n_cols))\n",
        "  gs = gridspec.GridSpec(n_rows, n_cols) #creating dynamic grid \n",
        "  scale = max(n_cols, n_rows)\n",
        "  fig = plt.figure(figsize=(6 * scale, 6 * scale))\n",
        "  for i,key in zip(range(diction_length),diction.keys()): #plotting subplots\n",
        "    ax = fig.add_subplot(gs[i])\n",
        "    values = diction[key].value_counts().keys().tolist()[0:num_words]\n",
        "    counts = diction[key].value_counts().tolist()[0:num_words]\n",
        "    bar_chart = ax.bar(values, height = counts)\n",
        "    ax = plt.gca()\n",
        "    ax.tick_params(axis='x', labelrotation = 45)\n",
        "    ax.set_title(key.capitalize())\n",
        "    for bar in bar_chart: #adding each word frequency percentage  \n",
        "      height = bar.get_height()\n",
        "      ax.text(bar.get_x() + bar.get_width()/2., height*1.02, f\"{round(100*int(height)/len(diction[key]),2)}%\", ha='center', va='bottom', size =9)\n",
        "create_graphs(dict1,20) # parameters are a dictionary and number of words per bar graph\n",
        "# Note: text for word frequency percentage starts overlapping when num_words > 15"
      ],
      "metadata": {
        "colab": {
          "base_uri": "https://localhost:8080/",
          "height": 891
        },
        "id": "Lxe4nmSUedf5",
        "outputId": "0d0066dc-5dd3-4f24-88f5-3371a533f769"
      },
      "execution_count": 33,
      "outputs": [
        {
          "output_type": "display_data",
          "data": {
            "text/plain": [
              "<Figure size 1800x1800 with 5 Axes>"
            ],
            "image/png": "[encoded data removed]"
          },
          "metadata": {}
        }
      ]
    },
    {
      "cell_type": "markdown",
      "source": [
        "In the chart above the 15 most frequent words were graphed for each category in the training day. The word frequency distribution would allow a somone to easily extrapolate the associated categories. "
      ],
      "metadata": {
        "id": "DeNs7GTZSzyD"
      }
    },
    {
      "cell_type": "code",
      "source": [
        "train1['Number_of_Words_Updated'] = train1['Text'].apply(lambda x: len(x))"
      ],
      "metadata": {
        "id": "D3PtrSNT43G8"
      },
      "execution_count": 34,
      "outputs": []
    },
    {
      "cell_type": "code",
      "source": [
        "fig, ax = plt.subplots(figsize=(10, 5))\n",
        "sns.boxplot(data = train1, x = 'Number_of_Words_Updated', y = 'Category').set(title = 'Total Words Per Article')"
      ],
      "metadata": {
        "colab": {
          "base_uri": "https://localhost:8080/",
          "height": 469
        },
        "id": "j1Ti7e8y4TMk",
        "outputId": "246e51bd-2aa7-4d32-e716-118d91c9e750"
      },
      "execution_count": 35,
      "outputs": [
        {
          "output_type": "execute_result",
          "data": {
            "text/plain": [
              "[Text(0.5, 1.0, 'Total Words Per Article')]"
            ]
          },
          "metadata": {},
          "execution_count": 35
        },
        {
          "output_type": "display_data",
          "data": {
            "text/plain": [
              "<Figure size 1000x500 with 1 Axes>"
            ],
            "image/png": "[encoded data removed]"
          },
          "metadata": {}
        }
      ]
    },
    {
      "cell_type": "markdown",
      "source": [
        "In the plot above we can see a handful of outliers. We will not remove the outliers since there appears to be a very large number that should not impact our model performance. "
      ],
      "metadata": {
        "id": "tRTICe8l7etQ"
      }
    },
    {
      "cell_type": "markdown",
      "source": [
        "### Condensed Preprocessing"
      ],
      "metadata": {
        "id": "GGHBPvQQRP9o"
      }
    },
    {
      "cell_type": "code",
      "source": [
        "def text_preprocessing(df,col_text):\n",
        "  for i in range(len(df[col_text])):\n",
        "    df[col_text][i] = word_tokenize(df[col_text][i])\n",
        "  for i in range(len(df)):\n",
        "    df[col_text][i] = [word for word in df[col_text][i] if word not in string.punctuation]\n",
        "  lemmatizer = WordNetLemmatizer()\n",
        "  for i in range(len(df)):\n",
        "    df[col_text][i] = [lemmatizer.lemmatize(word) for word in df[col_text][i]]\n",
        "  for i in range(len(df)):\n",
        "    df[col_text][i] = ' '.join(df[col_text][i])\n",
        "  return df"
      ],
      "metadata": {
        "id": "kac7RGeJ5C1_"
      },
      "execution_count": 36,
      "outputs": []
    },
    {
      "cell_type": "markdown",
      "source": [
        "# Modeling"
      ],
      "metadata": {
        "id": "41ZyK-vSaHaG"
      }
    },
    {
      "cell_type": "markdown",
      "source": [
        "There will be four separate modeling efforts.\n",
        "1. No hyperparemter optimization or cross validation. \n",
        "\n",
        "2. Only hyperparameter optimization on the model.\n",
        "\n",
        "3. hyperparameter optimization on the model and vectorizer. \n",
        "\n",
        "I would normally include a customized class that would allow for aspects of the text preprocessing to be validated such as choosing between stemming and lemmatizing. However, run time definitely became an issue so I was unable to do so. In the future I will hopefully be able to utilize stronger processors that will allow me to do this. Also gridsearchcv generally performs better than randomized search cv but the model would not tune within a 24 hour window so I decided to stick with randomizedsearch cv."
      ],
      "metadata": {
        "id": "xcnANGObWa4e"
      }
    },
    {
      "cell_type": "markdown",
      "source": [
        "### Model Attempt 1"
      ],
      "metadata": {
        "id": "gEflv10AXSle"
      }
    },
    {
      "cell_type": "code",
      "source": [
        "text_preprocessing(train_f, 'Text')\n",
        "text_preprocessing(test_set, 'Text')\n",
        "x_train = train_f['Text'].values \n",
        "y_train = train_f['Category'].values\n",
        "x_test = test_set['Text'].values \n",
        "y_test = test_set['Category'].values\n",
        "tfidf = TfidfVectorizer() #lookat encoding, min_df, and ngram_range tomorrow.... also use gridsearch\n",
        "x_train1 = tfidf.fit_transform(x_train)\n",
        "tfidf2 = tfidf.transform(x_test) "
      ],
      "metadata": {
        "id": "N3b3BQRsWkXL",
        "colab": {
          "base_uri": "https://localhost:8080/"
        },
        "outputId": "c6add226-1069-43ac-e9d8-d140f022c422"
      },
      "execution_count": 37,
      "outputs": [
        {
          "output_type": "stream",
          "name": "stderr",
          "text": [
            "/usr/local/lib/python3.7/dist-packages/ipykernel_launcher.py:3: SettingWithCopyWarning: \n",
            "A value is trying to be set on a copy of a slice from a DataFrame\n",
            "\n",
            "See the caveats in the documentation: https://pandas.pydata.org/pandas-docs/stable/user_guide/indexing.html#returning-a-view-versus-a-copy\n",
            "  This is separate from the ipykernel package so we can avoid doing imports until\n",
            "/usr/local/lib/python3.7/dist-packages/ipykernel_launcher.py:5: SettingWithCopyWarning: \n",
            "A value is trying to be set on a copy of a slice from a DataFrame\n",
            "\n",
            "See the caveats in the documentation: https://pandas.pydata.org/pandas-docs/stable/user_guide/indexing.html#returning-a-view-versus-a-copy\n",
            "  \"\"\"\n",
            "/usr/local/lib/python3.7/dist-packages/ipykernel_launcher.py:8: SettingWithCopyWarning: \n",
            "A value is trying to be set on a copy of a slice from a DataFrame\n",
            "\n",
            "See the caveats in the documentation: https://pandas.pydata.org/pandas-docs/stable/user_guide/indexing.html#returning-a-view-versus-a-copy\n",
            "  \n",
            "/usr/local/lib/python3.7/dist-packages/ipykernel_launcher.py:10: SettingWithCopyWarning: \n",
            "A value is trying to be set on a copy of a slice from a DataFrame\n",
            "\n",
            "See the caveats in the documentation: https://pandas.pydata.org/pandas-docs/stable/user_guide/indexing.html#returning-a-view-versus-a-copy\n",
            "  # Remove the CWD from sys.path while we load stuff.\n"
          ]
        }
      ]
    },
    {
      "cell_type": "code",
      "source": [
        "from sklearn.ensemble import RandomForestClassifier\n",
        "from sklearn.pipeline import Pipeline\n",
        "from sklearn import metrics\n",
        "rf_clf = RandomForestClassifier()\n",
        "rf_clf.fit(x_train1, y_train)\n",
        "predicted = rf_clf.predict(tfidf2)\n",
        "print(metrics.classification_report(y_test, predicted))"
      ],
      "metadata": {
        "colab": {
          "base_uri": "https://localhost:8080/"
        },
        "id": "0kuHY-ETXQWs",
        "outputId": "7fcbbd48-2bf2-40ae-ee32-8deff2dfcbb8"
      },
      "execution_count": 38,
      "outputs": [
        {
          "output_type": "stream",
          "name": "stdout",
          "text": [
            "               precision    recall  f1-score   support\n",
            "\n",
            "     business       0.95      0.94      0.95        66\n",
            "entertainment       1.00      0.90      0.95        61\n",
            "     politics       0.94      0.97      0.95        60\n",
            "        sport       0.97      1.00      0.98        59\n",
            "         tech       0.92      0.98      0.95        50\n",
            "\n",
            "     accuracy                           0.96       296\n",
            "    macro avg       0.96      0.96      0.96       296\n",
            " weighted avg       0.96      0.96      0.96       296\n",
            "\n"
          ]
        }
      ]
    },
    {
      "cell_type": "markdown",
      "source": [
        "Here is the base random forest model without any hyperparameter tuning, cross validation, or pipeline and manually doing preprocessing and vectorizing. I would not reccommend deploying a model this way because it will not generalize well."
      ],
      "metadata": {
        "id": "HDlhU1_JYDCS"
      }
    },
    {
      "cell_type": "markdown",
      "source": [
        "### Model Attempt 2"
      ],
      "metadata": {
        "id": "cpwl9bd2Xcjr"
      }
    },
    {
      "cell_type": "code",
      "source": [
        "from sklearn.model_selection import RandomizedSearchCV\n",
        "n_estimators = [x for x in range(10,100,5)]\n",
        "max_features = ['log2', 'sqrt']\n",
        "max_depth = [x for x in range(5,50)]\n",
        "min_samples_split = [2,4,6,8, 10]\n",
        "min_samples_leaf = [1, 2, 5]\n",
        "bootstrap = [True]\n",
        "# Create the random grid\n",
        "random_grid = {'n_estimators': n_estimators,\n",
        "               'max_features': max_features,\n",
        "               'max_depth': max_depth,\n",
        "               'min_samples_split': min_samples_split,\n",
        "               'min_samples_leaf': min_samples_leaf,\n",
        "               'bootstrap': bootstrap}\n"
      ],
      "metadata": {
        "id": "yiU6m5d7NlH-"
      },
      "execution_count": 39,
      "outputs": []
    },
    {
      "cell_type": "code",
      "source": [
        "rf = RandomForestClassifier()\n",
        "# Random search of parameters, using 3 fold cross validation, \n",
        "# search across 100 different combinations, and use all available cores\n",
        "rf_random = RandomizedSearchCV(estimator = rf, param_distributions = random_grid, n_iter = 100, cv = 3, verbose=-1, random_state=99, n_jobs = -1)\n",
        "# Fit the random search model\n",
        "result2 = rf_random.fit(x_train1, y_train)"
      ],
      "metadata": {
        "id": "ed7nvOY0Nnr7"
      },
      "execution_count": 40,
      "outputs": []
    },
    {
      "cell_type": "code",
      "source": [
        "print('Best Score: ' % result2.best_score_)\n",
        "print('Best Hyperparameters: ' % result2.best_params_)"
      ],
      "metadata": {
        "colab": {
          "base_uri": "https://localhost:8080/"
        },
        "id": "P0HueEzSZUjA",
        "outputId": "f35d4447-e97a-4eee-9822-4e3f0cc62553"
      },
      "execution_count": 41,
      "outputs": [
        {
          "output_type": "stream",
          "name": "stdout",
          "text": [
            "Best Score: \n",
            "Best Hyperparameters: \n"
          ]
        }
      ]
    },
    {
      "cell_type": "markdown",
      "source": [
        "### Model Attempt 3"
      ],
      "metadata": {
        "id": "KAwaggUIXh5z"
      }
    },
    {
      "cell_type": "markdown",
      "source": [
        "We can see that our model perfroms very well here. However it should be noted that the model won't generalize as well when not doing a nested cross validation. We should to the vectorizing and modeling cross validation steps together to minimize data leakage. "
      ],
      "metadata": {
        "id": "2BiZVQFgMHFZ"
      }
    },
    {
      "cell_type": "code",
      "source": [
        "# Model 1: Logistic Regression\n",
        "# Model 2: Support Vector Machine\n",
        "# Model 3: K-nearest neighbors\n",
        "# Model 4: Random Forest Classifier\n",
        "# Model 5 : Naive Bayes"
      ],
      "metadata": {
        "id": "xp4q6V8glzWf"
      },
      "execution_count": 42,
      "outputs": []
    },
    {
      "cell_type": "code",
      "source": [
        "rf_pipeline = Pipeline([\n",
        " ('vectorizer', TfidfVectorizer()),\n",
        " ('model', RandomForestClassifier())\n",
        "])"
      ],
      "metadata": {
        "id": "A28UcdRddZVV"
      },
      "execution_count": 43,
      "outputs": []
    },
    {
      "cell_type": "code",
      "source": [
        "n_estimators = [x for x in range(10,100,5)]\n",
        "max_features = ['log2', 'sqrt']\n",
        "max_depth = [x for x in range(5,50)]\n",
        "min_samples_split = [2,4,6,8, 10]\n",
        "min_samples_leaf = [1, 2, 5]\n",
        "bootstrap = [True]\n",
        "params_tfrf = {\n",
        " 'vectorizer__ngram_range': [(1, 1), (1, 2), (2, 2)], #,(1,3),(2,3),(3,3)]\n",
        " 'vectorizer__stop_words': ['english'],\n",
        " 'model__n_estimators': n_estimators,\n",
        "               'model__max_features': max_features,\n",
        "               'model__max_depth': max_depth,\n",
        "               'model__min_samples_split': min_samples_split,\n",
        "               'model__min_samples_leaf': min_samples_leaf,\n",
        "               'model__bootstrap': bootstrap}\n",
        "\n",
        "rf_search = RandomizedSearchCV(rf_pipeline, param_distributions =params_tfrf,  n_iter = 100 , cv = 3, verbose =-1, n_jobs = -1, random_state = 99)\n",
        "rf_result = rf_search.fit(x_train,y_train)\n",
        "print('Best Score: %s' % rf_result.best_score_)\n",
        "print('Best Hyperparameters: %s' % rf_result.best_params_)"
      ],
      "metadata": {
        "id": "yPp6KmPCcOkH",
        "colab": {
          "base_uri": "https://localhost:8080/"
        },
        "outputId": "3267e3b7-290d-4059-fa59-d123acb988cb"
      },
      "execution_count": 44,
      "outputs": [
        {
          "output_type": "stream",
          "name": "stdout",
          "text": [
            "Best Score: 0.9496960031053673\n",
            "Best Hyperparameters: {'vectorizer__stop_words': 'english', 'vectorizer__ngram_range': (1, 1), 'model__n_estimators': 90, 'model__min_samples_split': 8, 'model__min_samples_leaf': 5, 'model__max_features': 'sqrt', 'model__max_depth': 39, 'model__bootstrap': True}\n"
          ]
        }
      ]
    },
    {
      "cell_type": "code",
      "source": [
        "from sklearn.model_selection import GridSearchCV\n",
        "rf_pipeline1 = Pipeline([\n",
        " ('vectorizer', TfidfVectorizer()),\n",
        " ('model', RandomForestClassifier())\n",
        "])\n",
        "params_gs =  {'vectorizer__stop_words': ['english'], \n",
        " 'vectorizer__ngram_range': [(1, 1)], 'model__n_estimators': [67,70,73], \n",
        " 'model__min_samples_split': [2,3,4] , 'model__min_samples_leaf': [1,2,3], 'model__max_features': ['sqrt'], \n",
        " 'model__max_depth': [16,18,20], \n",
        " 'model__bootstrap': [True]}\n",
        "gs = GridSearchCV(rf_pipeline1, param_grid= params_gs, cv =3, n_jobs = -1)"
      ],
      "metadata": {
        "id": "5pLS-t7fphPp"
      },
      "execution_count": 66,
      "outputs": []
    },
    {
      "cell_type": "code",
      "source": [
        "res1 =gs.fit(x_train,y_train)"
      ],
      "metadata": {
        "id": "JXrj7k11u3XA"
      },
      "execution_count": 67,
      "outputs": []
    },
    {
      "cell_type": "code",
      "source": [
        "print('Best Score: %s' % res1.best_score_)\n",
        "print('Best Hyperparameters: %s' % res1.best_params_)"
      ],
      "metadata": {
        "colab": {
          "base_uri": "https://localhost:8080/"
        },
        "id": "mRzexLXTy-M-",
        "outputId": "d69d502d-484f-4bff-90ad-2c2106801401"
      },
      "execution_count": 68,
      "outputs": [
        {
          "output_type": "stream",
          "name": "stdout",
          "text": [
            "Best Score: 0.9547316768561531\n",
            "Best Hyperparameters: {'model__bootstrap': True, 'model__max_depth': 20, 'model__max_features': 'sqrt', 'model__min_samples_leaf': 1, 'model__min_samples_split': 2, 'model__n_estimators': 73, 'vectorizer__ngram_range': (1, 1), 'vectorizer__stop_words': 'english'}\n"
          ]
        }
      ]
    },
    {
      "cell_type": "markdown",
      "source": [
        "### Multinomial Logistic Regression Model\n",
        "**One vs All approach**"
      ],
      "metadata": {
        "id": "GGQKZLCsg8hV"
      }
    },
    {
      "cell_type": "code",
      "source": [],
      "metadata": {
        "id": "hwirTnSihKpz"
      },
      "execution_count": null,
      "outputs": []
    },
    {
      "cell_type": "code",
      "source": [
        "nmf = NMF(n_components=5, \n",
        "                init='nndsvda', \n",
        "                solver = 'mu',\n",
        "                beta_loss = 'kullback-leibler',\n",
        "                l1_ratio = 0.5,\n",
        "                random_state = 101)\n",
        "s = nmf.fit_transform(x_train1)\n"
      ],
      "metadata": {
        "id": "kXh4JY92cuCd"
      },
      "execution_count": 71,
      "outputs": []
    },
    {
      "cell_type": "code",
      "source": [
        "X_new = nmf.transform(tfidf2)\n",
        "predicted_topics = [np.argsort(each)[::-1][0] for each in X_new]"
      ],
      "metadata": {
        "id": "KKvL603RnIvM"
      },
      "execution_count": 72,
      "outputs": []
    },
    {
      "cell_type": "code",
      "source": [
        "y_test1 = []\n",
        "for val in y_test:\n",
        "  if val == 'business':\n",
        "    y_test1.append(4)\n",
        "  elif val == 'entertainment':\n",
        "    y_test1.append(3)\n",
        "  elif val == 'sport':\n",
        "    y_test1.append(1) \n",
        "  elif val == 'tech':\n",
        "    y_test1.append(0) \n",
        "  else:\n",
        "    y_test1.append(2)"
      ],
      "metadata": {
        "id": "yzWD9Wq2sUgL"
      },
      "execution_count": 73,
      "outputs": []
    },
    {
      "cell_type": "markdown",
      "source": [],
      "metadata": {
        "id": "ciV56YeGuTMc"
      }
    },
    {
      "cell_type": "code",
      "source": [
        "print(X_new[0])"
      ],
      "metadata": {
        "id": "we3EPmLHuAWo"
      },
      "execution_count": null,
      "outputs": []
    },
    {
      "cell_type": "code",
      "source": [
        "print(X_new.shape)"
      ],
      "metadata": {
        "id": "6SNk9ABJr0Sv"
      },
      "execution_count": null,
      "outputs": []
    },
    {
      "cell_type": "code",
      "source": [
        "print(predicted_topics)"
      ],
      "metadata": {
        "id": "wBgyzGLjrmQR"
      },
      "execution_count": null,
      "outputs": []
    },
    {
      "cell_type": "code",
      "source": [
        "print(y_test1)"
      ],
      "metadata": {
        "id": "T-6Tu2i0tVJu"
      },
      "execution_count": null,
      "outputs": []
    },
    {
      "cell_type": "code",
      "source": [
        "metrics.accuracy_score(y_test1, predicted_topics)"
      ],
      "metadata": {
        "colab": {
          "base_uri": "https://localhost:8080/"
        },
        "id": "nwycS0f3tLP-",
        "outputId": "fce2742d-62d7-4aec-ae38-f6a197949743"
      },
      "execution_count": 74,
      "outputs": [
        {
          "output_type": "execute_result",
          "data": {
            "text/plain": [
              "0.9290540540540541"
            ]
          },
          "metadata": {},
          "execution_count": 74
        }
      ]
    },
    {
      "cell_type": "code",
      "source": [
        "print(y_test)"
      ],
      "metadata": {
        "id": "HgoG8mnwsP-K"
      },
      "execution_count": null,
      "outputs": []
    },
    {
      "cell_type": "markdown",
      "source": [
        "**Issue with NMF for classifcation** : Nonnegative matrix factorization is often utlized for topic modeling and not top classifcation. For topic modeling, we can choose a certain number of topics for the matrix to be contained in. For our purposes, we will choose 5 topics (since we have 5 different catgeories to classify articles). "
      ],
      "metadata": {
        "id": "n0SWOsPiadIj"
      }
    },
    {
      "cell_type": "code",
      "source": [
        "print(test['Text'])"
      ],
      "metadata": {
        "id": "MSH1qHub5kYf"
      },
      "execution_count": null,
      "outputs": []
    },
    {
      "cell_type": "code",
      "source": [
        "print(rf_result)"
      ],
      "metadata": {
        "id": "Y0V6itDKf7Dv"
      },
      "execution_count": null,
      "outputs": []
    },
    {
      "cell_type": "code",
      "source": [
        "x_test = text_preprocessing(test,'Text')\n",
        "test_f = rf_search.best_estimator_.named_steps['vectorizer'].transform(x_test['Text'].values)\n",
        "pred = rf_search.best_estimator_.named_steps['model'].predict(test_f)"
      ],
      "metadata": {
        "colab": {
          "base_uri": "https://localhost:8080/"
        },
        "id": "DHUKxiE3mCVQ",
        "outputId": "9d1b1b48-2e59-4a5f-83ed-4ed05e21e490"
      },
      "execution_count": 69,
      "outputs": [
        {
          "output_type": "stream",
          "name": "stderr",
          "text": [
            "/usr/local/lib/python3.7/dist-packages/ipykernel_launcher.py:3: SettingWithCopyWarning: \n",
            "A value is trying to be set on a copy of a slice from a DataFrame\n",
            "\n",
            "See the caveats in the documentation: https://pandas.pydata.org/pandas-docs/stable/user_guide/indexing.html#returning-a-view-versus-a-copy\n",
            "  This is separate from the ipykernel package so we can avoid doing imports until\n",
            "/usr/local/lib/python3.7/dist-packages/ipykernel_launcher.py:5: SettingWithCopyWarning: \n",
            "A value is trying to be set on a copy of a slice from a DataFrame\n",
            "\n",
            "See the caveats in the documentation: https://pandas.pydata.org/pandas-docs/stable/user_guide/indexing.html#returning-a-view-versus-a-copy\n",
            "  \"\"\"\n",
            "/usr/local/lib/python3.7/dist-packages/ipykernel_launcher.py:8: SettingWithCopyWarning: \n",
            "A value is trying to be set on a copy of a slice from a DataFrame\n",
            "\n",
            "See the caveats in the documentation: https://pandas.pydata.org/pandas-docs/stable/user_guide/indexing.html#returning-a-view-versus-a-copy\n",
            "  \n",
            "/usr/local/lib/python3.7/dist-packages/ipykernel_launcher.py:10: SettingWithCopyWarning: \n",
            "A value is trying to be set on a copy of a slice from a DataFrame\n",
            "\n",
            "See the caveats in the documentation: https://pandas.pydata.org/pandas-docs/stable/user_guide/indexing.html#returning-a-view-versus-a-copy\n",
            "  # Remove the CWD from sys.path while we load stuff.\n"
          ]
        }
      ]
    },
    {
      "cell_type": "code",
      "source": [
        "#"
      ],
      "metadata": {
        "id": "N6Y3Et8x1FEd"
      },
      "execution_count": null,
      "outputs": []
    },
    {
      "cell_type": "markdown",
      "source": [
        "Other commonly used supervised learning algorithms:\n",
        "Support Vector Machine\n",
        "Decision Tree Classifier\n",
        "Gradient Boosting Classifier\n"
      ],
      "metadata": {
        "id": "ri1iD5E3nMqL"
      }
    },
    {
      "cell_type": "code",
      "source": [
        "from sklearn.metrics import accuracy_score, log_loss\n",
        "from sklearn.neighbors import KNeighborsClassifier\n",
        "from sklearn.svm import NuSVC\n",
        "from sklearn.tree import DecisionTreeClassifier\n",
        "from sklearn.ensemble import GradientBoostingClassifier\n",
        "\n",
        "classifiers = [\n",
        "    KNeighborsClassifier(3),\n",
        "    NuSVC(probability=True),\n",
        "    DecisionTreeClassifier(),\n",
        "    RandomForestClassifier(),\n",
        "    GradientBoostingClassifier()\n",
        "    ]\n",
        "for classifier in classifiers:\n",
        "    pipe = Pipeline(steps=[('preprocessor', TfidfVectorizer()),\n",
        "                      ('classifier', classifier)])\n",
        "    pipe.fit(x_train, y_train)   \n",
        "    print(classifier)\n",
        "    print(\"model score: %.3f\" % pipe.score(x_test, y_test))"
      ],
      "metadata": {
        "id": "J92j0UnH1Yiu",
        "colab": {
          "base_uri": "https://localhost:8080/",
          "height": 987
        },
        "outputId": "82b5a361-9ef6-4b28-c9d0-c8adae4ec696"
      },
      "execution_count": 76,
      "outputs": [
        {
          "output_type": "stream",
          "name": "stdout",
          "text": [
            "KNeighborsClassifier(n_neighbors=3)\n"
          ]
        },
        {
          "output_type": "error",
          "ename": "ValueError",
          "evalue": "ignored",
          "traceback": [
            "\u001b[0;31m---------------------------------------------------------------------------\u001b[0m",
            "\u001b[0;31mValueError\u001b[0m                                Traceback (most recent call last)",
            "\u001b[0;32m<ipython-input-76-c9fb47c63211>\u001b[0m in \u001b[0;36m<module>\u001b[0;34m\u001b[0m\n\u001b[1;32m     17\u001b[0m     \u001b[0mpipe\u001b[0m\u001b[0;34m.\u001b[0m\u001b[0mfit\u001b[0m\u001b[0;34m(\u001b[0m\u001b[0mx_train\u001b[0m\u001b[0;34m,\u001b[0m \u001b[0my_train\u001b[0m\u001b[0;34m)\u001b[0m\u001b[0;34m\u001b[0m\u001b[0;34m\u001b[0m\u001b[0m\n\u001b[1;32m     18\u001b[0m     \u001b[0mprint\u001b[0m\u001b[0;34m(\u001b[0m\u001b[0mclassifier\u001b[0m\u001b[0;34m)\u001b[0m\u001b[0;34m\u001b[0m\u001b[0;34m\u001b[0m\u001b[0m\n\u001b[0;32m---> 19\u001b[0;31m     \u001b[0mprint\u001b[0m\u001b[0;34m(\u001b[0m\u001b[0;34m\"model score: %.3f\"\u001b[0m \u001b[0;34m%\u001b[0m \u001b[0mpipe\u001b[0m\u001b[0;34m.\u001b[0m\u001b[0mscore\u001b[0m\u001b[0;34m(\u001b[0m\u001b[0mx_test\u001b[0m\u001b[0;34m,\u001b[0m \u001b[0my_test\u001b[0m\u001b[0;34m)\u001b[0m\u001b[0;34m)\u001b[0m\u001b[0;34m\u001b[0m\u001b[0;34m\u001b[0m\u001b[0m\n\u001b[0m",
            "\u001b[0;32m/usr/local/lib/python3.7/dist-packages/sklearn/utils/metaestimators.py\u001b[0m in \u001b[0;36m<lambda>\u001b[0;34m(*args, **kwargs)\u001b[0m\n\u001b[1;32m    111\u001b[0m \u001b[0;34m\u001b[0m\u001b[0m\n\u001b[1;32m    112\u001b[0m             \u001b[0;31m# lambda, but not partial, allows help() to work with update_wrapper\u001b[0m\u001b[0;34m\u001b[0m\u001b[0;34m\u001b[0m\u001b[0;34m\u001b[0m\u001b[0m\n\u001b[0;32m--> 113\u001b[0;31m             \u001b[0mout\u001b[0m \u001b[0;34m=\u001b[0m \u001b[0;32mlambda\u001b[0m \u001b[0;34m*\u001b[0m\u001b[0margs\u001b[0m\u001b[0;34m,\u001b[0m \u001b[0;34m**\u001b[0m\u001b[0mkwargs\u001b[0m\u001b[0;34m:\u001b[0m \u001b[0mself\u001b[0m\u001b[0;34m.\u001b[0m\u001b[0mfn\u001b[0m\u001b[0;34m(\u001b[0m\u001b[0mobj\u001b[0m\u001b[0;34m,\u001b[0m \u001b[0;34m*\u001b[0m\u001b[0margs\u001b[0m\u001b[0;34m,\u001b[0m \u001b[0;34m**\u001b[0m\u001b[0mkwargs\u001b[0m\u001b[0;34m)\u001b[0m  \u001b[0;31m# noqa\u001b[0m\u001b[0;34m\u001b[0m\u001b[0;34m\u001b[0m\u001b[0m\n\u001b[0m\u001b[1;32m    114\u001b[0m         \u001b[0;32melse\u001b[0m\u001b[0;34m:\u001b[0m\u001b[0;34m\u001b[0m\u001b[0;34m\u001b[0m\u001b[0m\n\u001b[1;32m    115\u001b[0m \u001b[0;34m\u001b[0m\u001b[0m\n",
            "\u001b[0;32m/usr/local/lib/python3.7/dist-packages/sklearn/pipeline.py\u001b[0m in \u001b[0;36mscore\u001b[0;34m(self, X, y, sample_weight)\u001b[0m\n\u001b[1;32m    709\u001b[0m         \u001b[0;32mif\u001b[0m \u001b[0msample_weight\u001b[0m \u001b[0;32mis\u001b[0m \u001b[0;32mnot\u001b[0m \u001b[0;32mNone\u001b[0m\u001b[0;34m:\u001b[0m\u001b[0;34m\u001b[0m\u001b[0;34m\u001b[0m\u001b[0m\n\u001b[1;32m    710\u001b[0m             \u001b[0mscore_params\u001b[0m\u001b[0;34m[\u001b[0m\u001b[0;34m\"sample_weight\"\u001b[0m\u001b[0;34m]\u001b[0m \u001b[0;34m=\u001b[0m \u001b[0msample_weight\u001b[0m\u001b[0;34m\u001b[0m\u001b[0;34m\u001b[0m\u001b[0m\n\u001b[0;32m--> 711\u001b[0;31m         \u001b[0;32mreturn\u001b[0m \u001b[0mself\u001b[0m\u001b[0;34m.\u001b[0m\u001b[0msteps\u001b[0m\u001b[0;34m[\u001b[0m\u001b[0;34m-\u001b[0m\u001b[0;36m1\u001b[0m\u001b[0;34m]\u001b[0m\u001b[0;34m[\u001b[0m\u001b[0;36m1\u001b[0m\u001b[0;34m]\u001b[0m\u001b[0;34m.\u001b[0m\u001b[0mscore\u001b[0m\u001b[0;34m(\u001b[0m\u001b[0mXt\u001b[0m\u001b[0;34m,\u001b[0m \u001b[0my\u001b[0m\u001b[0;34m,\u001b[0m \u001b[0;34m**\u001b[0m\u001b[0mscore_params\u001b[0m\u001b[0;34m)\u001b[0m\u001b[0;34m\u001b[0m\u001b[0;34m\u001b[0m\u001b[0m\n\u001b[0m\u001b[1;32m    712\u001b[0m \u001b[0;34m\u001b[0m\u001b[0m\n\u001b[1;32m    713\u001b[0m     \u001b[0;34m@\u001b[0m\u001b[0mproperty\u001b[0m\u001b[0;34m\u001b[0m\u001b[0;34m\u001b[0m\u001b[0m\n",
            "\u001b[0;32m/usr/local/lib/python3.7/dist-packages/sklearn/base.py\u001b[0m in \u001b[0;36mscore\u001b[0;34m(self, X, y, sample_weight)\u001b[0m\n\u001b[1;32m    649\u001b[0m         \u001b[0;32mfrom\u001b[0m \u001b[0;34m.\u001b[0m\u001b[0mmetrics\u001b[0m \u001b[0;32mimport\u001b[0m \u001b[0maccuracy_score\u001b[0m\u001b[0;34m\u001b[0m\u001b[0;34m\u001b[0m\u001b[0m\n\u001b[1;32m    650\u001b[0m \u001b[0;34m\u001b[0m\u001b[0m\n\u001b[0;32m--> 651\u001b[0;31m         \u001b[0;32mreturn\u001b[0m \u001b[0maccuracy_score\u001b[0m\u001b[0;34m(\u001b[0m\u001b[0my\u001b[0m\u001b[0;34m,\u001b[0m \u001b[0mself\u001b[0m\u001b[0;34m.\u001b[0m\u001b[0mpredict\u001b[0m\u001b[0;34m(\u001b[0m\u001b[0mX\u001b[0m\u001b[0;34m)\u001b[0m\u001b[0;34m,\u001b[0m \u001b[0msample_weight\u001b[0m\u001b[0;34m=\u001b[0m\u001b[0msample_weight\u001b[0m\u001b[0;34m)\u001b[0m\u001b[0;34m\u001b[0m\u001b[0;34m\u001b[0m\u001b[0m\n\u001b[0m\u001b[1;32m    652\u001b[0m \u001b[0;34m\u001b[0m\u001b[0m\n\u001b[1;32m    653\u001b[0m     \u001b[0;32mdef\u001b[0m \u001b[0m_more_tags\u001b[0m\u001b[0;34m(\u001b[0m\u001b[0mself\u001b[0m\u001b[0;34m)\u001b[0m\u001b[0;34m:\u001b[0m\u001b[0;34m\u001b[0m\u001b[0;34m\u001b[0m\u001b[0m\n",
            "\u001b[0;32m/usr/local/lib/python3.7/dist-packages/sklearn/metrics/_classification.py\u001b[0m in \u001b[0;36maccuracy_score\u001b[0;34m(y_true, y_pred, normalize, sample_weight)\u001b[0m\n\u001b[1;32m    209\u001b[0m \u001b[0;34m\u001b[0m\u001b[0m\n\u001b[1;32m    210\u001b[0m     \u001b[0;31m# Compute accuracy for each possible representation\u001b[0m\u001b[0;34m\u001b[0m\u001b[0;34m\u001b[0m\u001b[0;34m\u001b[0m\u001b[0m\n\u001b[0;32m--> 211\u001b[0;31m     \u001b[0my_type\u001b[0m\u001b[0;34m,\u001b[0m \u001b[0my_true\u001b[0m\u001b[0;34m,\u001b[0m \u001b[0my_pred\u001b[0m \u001b[0;34m=\u001b[0m \u001b[0m_check_targets\u001b[0m\u001b[0;34m(\u001b[0m\u001b[0my_true\u001b[0m\u001b[0;34m,\u001b[0m \u001b[0my_pred\u001b[0m\u001b[0;34m)\u001b[0m\u001b[0;34m\u001b[0m\u001b[0;34m\u001b[0m\u001b[0m\n\u001b[0m\u001b[1;32m    212\u001b[0m     \u001b[0mcheck_consistent_length\u001b[0m\u001b[0;34m(\u001b[0m\u001b[0my_true\u001b[0m\u001b[0;34m,\u001b[0m \u001b[0my_pred\u001b[0m\u001b[0;34m,\u001b[0m \u001b[0msample_weight\u001b[0m\u001b[0;34m)\u001b[0m\u001b[0;34m\u001b[0m\u001b[0;34m\u001b[0m\u001b[0m\n\u001b[1;32m    213\u001b[0m     \u001b[0;32mif\u001b[0m \u001b[0my_type\u001b[0m\u001b[0;34m.\u001b[0m\u001b[0mstartswith\u001b[0m\u001b[0;34m(\u001b[0m\u001b[0;34m\"multilabel\"\u001b[0m\u001b[0;34m)\u001b[0m\u001b[0;34m:\u001b[0m\u001b[0;34m\u001b[0m\u001b[0;34m\u001b[0m\u001b[0m\n",
            "\u001b[0;32m/usr/local/lib/python3.7/dist-packages/sklearn/metrics/_classification.py\u001b[0m in \u001b[0;36m_check_targets\u001b[0;34m(y_true, y_pred)\u001b[0m\n\u001b[1;32m     82\u001b[0m     \u001b[0my_pred\u001b[0m \u001b[0;34m:\u001b[0m \u001b[0marray\u001b[0m \u001b[0;32mor\u001b[0m \u001b[0mindicator\u001b[0m \u001b[0mmatrix\u001b[0m\u001b[0;34m\u001b[0m\u001b[0;34m\u001b[0m\u001b[0m\n\u001b[1;32m     83\u001b[0m     \"\"\"\n\u001b[0;32m---> 84\u001b[0;31m     \u001b[0mcheck_consistent_length\u001b[0m\u001b[0;34m(\u001b[0m\u001b[0my_true\u001b[0m\u001b[0;34m,\u001b[0m \u001b[0my_pred\u001b[0m\u001b[0;34m)\u001b[0m\u001b[0;34m\u001b[0m\u001b[0;34m\u001b[0m\u001b[0m\n\u001b[0m\u001b[1;32m     85\u001b[0m     \u001b[0mtype_true\u001b[0m \u001b[0;34m=\u001b[0m \u001b[0mtype_of_target\u001b[0m\u001b[0;34m(\u001b[0m\u001b[0my_true\u001b[0m\u001b[0;34m)\u001b[0m\u001b[0;34m\u001b[0m\u001b[0;34m\u001b[0m\u001b[0m\n\u001b[1;32m     86\u001b[0m     \u001b[0mtype_pred\u001b[0m \u001b[0;34m=\u001b[0m \u001b[0mtype_of_target\u001b[0m\u001b[0;34m(\u001b[0m\u001b[0my_pred\u001b[0m\u001b[0;34m)\u001b[0m\u001b[0;34m\u001b[0m\u001b[0;34m\u001b[0m\u001b[0m\n",
            "\u001b[0;32m/usr/local/lib/python3.7/dist-packages/sklearn/utils/validation.py\u001b[0m in \u001b[0;36mcheck_consistent_length\u001b[0;34m(*arrays)\u001b[0m\n\u001b[1;32m    332\u001b[0m         raise ValueError(\n\u001b[1;32m    333\u001b[0m             \u001b[0;34m\"Found input variables with inconsistent numbers of samples: %r\"\u001b[0m\u001b[0;34m\u001b[0m\u001b[0;34m\u001b[0m\u001b[0m\n\u001b[0;32m--> 334\u001b[0;31m             \u001b[0;34m%\u001b[0m \u001b[0;34m[\u001b[0m\u001b[0mint\u001b[0m\u001b[0;34m(\u001b[0m\u001b[0ml\u001b[0m\u001b[0;34m)\u001b[0m \u001b[0;32mfor\u001b[0m \u001b[0ml\u001b[0m \u001b[0;32min\u001b[0m \u001b[0mlengths\u001b[0m\u001b[0;34m]\u001b[0m\u001b[0;34m\u001b[0m\u001b[0;34m\u001b[0m\u001b[0m\n\u001b[0m\u001b[1;32m    335\u001b[0m         )\n\u001b[1;32m    336\u001b[0m \u001b[0;34m\u001b[0m\u001b[0m\n",
            "\u001b[0;31mValueError\u001b[0m: Found input variables with inconsistent numbers of samples: [296, 2]"
          ]
        }
      ]
    },
    {
      "cell_type": "markdown",
      "source": [
        "## Evaluation"
      ],
      "metadata": {
        "id": "l8BJ7lZVZgxM"
      }
    },
    {
      "cell_type": "code",
      "source": [
        "print(test.columns)"
      ],
      "metadata": {
        "id": "FE-JkZRtnscb"
      },
      "execution_count": null,
      "outputs": []
    },
    {
      "cell_type": "code",
      "source": [
        "submission = pd.DataFrame(list(zip(test['ArticleId'], pred)),\n",
        "               columns =['ArticleId', 'Category'])\n",
        "submission.head(20)"
      ],
      "metadata": {
        "id": "O1dtn34BnnJi"
      },
      "execution_count": null,
      "outputs": []
    },
    {
      "cell_type": "code",
      "source": [
        "submission.to_csv('submission.csv', index=False)"
      ],
      "metadata": {
        "id": "S-YWAiAxoDB8"
      },
      "execution_count": null,
      "outputs": []
    },
    {
      "cell_type": "markdown",
      "source": [
        "## Conclusion"
      ],
      "metadata": {
        "id": "F0HnVtjmaBr3"
      }
    },
    {
      "cell_type": "code",
      "source": [],
      "metadata": {
        "id": "ObiWJKGbwu-X"
      },
      "execution_count": null,
      "outputs": []
    },
    {
      "cell_type": "markdown",
      "source": [
        "After submitting, my score was .95374. This was actually better than the score when running the best model on the training data. This is likely due to the cross validation techinque generalizing very well. I would have preferred to run after my random search but did not have the resources to run a strong enough ra"
      ],
      "metadata": {
        "id": "nl4PyZxjor-g"
      }
    },
    {
      "cell_type": "code",
      "source": [],
      "metadata": {
        "id": "rriWr04QaDnw"
      },
      "execution_count": null,
      "outputs": []
    },
    {
      "cell_type": "code",
      "source": [],
      "metadata": {
        "id": "nrS79ffqfGaj"
      },
      "execution_count": null,
      "outputs": []
    },
    {
      "cell_type": "markdown",
      "source": [
        "Links to useful tutorials/libraries used:\n",
        "1. https://www.analyticsvidhya.com/blog/2022/01/roadmap-to-master-nlp-in-2022/\n",
        "2. https://www.nltk.org/\n",
        "3. https://scikit-learn.org/stable/modules/generated/sklearn.decomposition.NMF.html\n",
        "4. https://www.w3schools.com/python/python_regex.asp"
      ],
      "metadata": {
        "id": "d8jawkQ4fG5R"
      }
    },
    {
      "cell_type": "code",
      "source": [],
      "metadata": {
        "id": "mmBe8v7Lfvb7"
      },
      "execution_count": null,
      "outputs": []
    }
  ]
}
